{
  "nbformat": 4,
  "nbformat_minor": 0,
  "metadata": {
    "colab": {
      "provenance": [],
      "collapsed_sections": [],
      "authorship_tag": "ABX9TyOqV4xgc7rZH3Kpik2zoVMk",
      "include_colab_link": true
    },
    "kernelspec": {
      "name": "python3",
      "display_name": "Python 3"
    },
    "language_info": {
      "name": "python"
    }
  },
  "cells": [
    {
      "cell_type": "markdown",
      "metadata": {
        "id": "view-in-github",
        "colab_type": "text"
      },
      "source": [
        "<a href=\"https://colab.research.google.com/github/uichann/My_Repository/blob/main/Numpy3.ipynb\" target=\"_parent\"><img src=\"https://colab.research.google.com/assets/colab-badge.svg\" alt=\"Open In Colab\"/></a>"
      ]
    },
    {
      "cell_type": "code",
      "execution_count": null,
      "metadata": {
        "colab": {
          "base_uri": "https://localhost:8080/"
        },
        "id": "qXbzP9YX4MzR",
        "outputId": "69ea614b-2927-4953-cf4a-6be1d81acdc0"
      },
      "outputs": [
        {
          "output_type": "execute_result",
          "data": {
            "text/plain": [
              "array([-0.70668647, -2.51107142,  1.04474751, -0.47083928,  0.55401127,\n",
              "        0.59227922,  0.33437406,  0.3896258 ,  0.70357446,  0.49497148,\n",
              "       -1.49368127,  0.45847376, -0.68653878,  1.17856371, -0.49823629,\n",
              "        0.34177858,  0.18011313,  0.78723247, -1.14264539,  1.12064626,\n",
              "       -0.89584457,  0.42671132,  0.33798877,  0.08986897, -0.14245392,\n",
              "       -0.25328301, -0.39104242, -0.90102103,  0.35669534,  2.08791061,\n",
              "        0.38292754,  1.72240816,  0.36033848,  0.24585068, -0.52811792,\n",
              "        0.47907222, -0.08828167, -0.61214436,  1.92059345, -0.05330126,\n",
              "       -0.38714348, -0.21262032,  1.34366032, -0.5792204 , -0.18203616,\n",
              "       -0.45318532, -0.54677084,  1.6845122 , -0.22044966, -0.22276744,\n",
              "       -0.00483172, -1.82923445, -0.56330093, -0.1563281 , -0.08520892,\n",
              "       -1.3009565 ,  0.29299475, -0.95974259, -0.58459672, -0.84464118,\n",
              "        0.45772928,  0.48273986,  0.31709813, -1.46979537,  0.09205277,\n",
              "        0.93467494,  0.33039886, -0.0353428 , -0.50726393,  0.3576625 ,\n",
              "        0.28024741,  0.10715643, -1.42849874, -1.06463961,  0.51943337,\n",
              "       -1.49661328, -0.79889373,  0.62399238, -0.13038557,  0.89220394,\n",
              "        0.8097506 , -0.14448411, -1.66389555, -0.41171897, -0.37614646,\n",
              "        1.01276394,  0.11030733, -0.6049467 , -0.02707359, -1.97809193,\n",
              "        0.47380705, -0.05778552,  0.58300003,  0.66413518, -0.0944759 ,\n",
              "       -0.97229981,  1.89117675, -0.07611379,  1.22669475,  0.25251643])"
            ]
          },
          "metadata": {},
          "execution_count": 1
        }
      ],
      "source": [
        "import numpy as np\n",
        "\n",
        "arr = np.random.randn(100)\n",
        "arr"
      ]
    },
    {
      "cell_type": "code",
      "source": [
        "np.max(arr), np.min(arr), np.mean(arr), np.var(arr), np.std(arr)"
      ],
      "metadata": {
        "colab": {
          "base_uri": "https://localhost:8080/"
        },
        "id": "HuPwkWTs4XOl",
        "outputId": "7bf26064-acb3-41c5-9099-79fd9b39bbf1"
      },
      "execution_count": null,
      "outputs": [
        {
          "output_type": "execute_result",
          "data": {
            "text/plain": [
              "(2.0879106116404205,\n",
              " -2.51107142127809,\n",
              " -0.01515222665180942,\n",
              " 0.7330764706668839,\n",
              " 0.8561988499565296)"
            ]
          },
          "metadata": {},
          "execution_count": 2
        }
      ]
    },
    {
      "cell_type": "code",
      "source": [
        "np.linspace(0,100,5)"
      ],
      "metadata": {
        "colab": {
          "base_uri": "https://localhost:8080/"
        },
        "id": "bGrQ1r3R4rnr",
        "outputId": "ab25dbfd-6868-4831-86de-a396e7c6e9be"
      },
      "execution_count": null,
      "outputs": [
        {
          "output_type": "execute_result",
          "data": {
            "text/plain": [
              "array([  0.,  25.,  50.,  75., 100.])"
            ]
          },
          "metadata": {},
          "execution_count": 3
        }
      ]
    },
    {
      "cell_type": "code",
      "source": [
        "np.logspace(2,4,3)"
      ],
      "metadata": {
        "colab": {
          "base_uri": "https://localhost:8080/"
        },
        "id": "wl-IVEG34yXV",
        "outputId": "504fd214-8233-4eff-fe8b-b65c5d5edba9"
      },
      "execution_count": null,
      "outputs": [
        {
          "output_type": "execute_result",
          "data": {
            "text/plain": [
              "array([  100.,  1000., 10000.])"
            ]
          },
          "metadata": {},
          "execution_count": 6
        }
      ]
    },
    {
      "cell_type": "code",
      "source": [
        "time_00 = 1600\n",
        "time_19 = 8350\n",
        "np.linspace(time_00, time_19, 10)"
      ],
      "metadata": {
        "colab": {
          "base_uri": "https://localhost:8080/"
        },
        "id": "YaoewSu945cF",
        "outputId": "5125aff1-b31d-4c52-d2ab-6e7a4c2693db"
      },
      "execution_count": null,
      "outputs": [
        {
          "output_type": "execute_result",
          "data": {
            "text/plain": [
              "array([1600., 2350., 3100., 3850., 4600., 5350., 6100., 6850., 7600.,\n",
              "       8350.])"
            ]
          },
          "metadata": {},
          "execution_count": 7
        }
      ]
    },
    {
      "cell_type": "code",
      "source": [
        "np.random.seed(1)\n",
        "res1 = np.random.randint(10, 100, 10)\n",
        "\n",
        "np.random.seed(2)\n",
        "res2 = np.random.randint(10, 100, 10)\n",
        "\n",
        "np.random.seed(1)\n",
        "res3 = np.random.randint(10, 100, 10)\n",
        "\n",
        "res1, res2, res3"
      ],
      "metadata": {
        "colab": {
          "base_uri": "https://localhost:8080/"
        },
        "id": "PFh_KvJF5lRu",
        "outputId": "0d06a162-b726-488d-90fe-31e17cd27b19"
      },
      "execution_count": null,
      "outputs": [
        {
          "output_type": "execute_result",
          "data": {
            "text/plain": [
              "(array([47, 22, 82, 19, 85, 15, 89, 74, 26, 11]),\n",
              " array([50, 25, 82, 32, 53, 92, 85, 17, 44, 59]),\n",
              " array([47, 22, 82, 19, 85, 15, 89, 74, 26, 11]))"
            ]
          },
          "metadata": {},
          "execution_count": 8
        }
      ]
    },
    {
      "cell_type": "code",
      "source": [
        "np.random.rand(10)\n"
      ],
      "metadata": {
        "colab": {
          "base_uri": "https://localhost:8080/"
        },
        "id": "fyXRv2145t09",
        "outputId": "b238545c-e511-4c30-9b07-fd0fe03dec13"
      },
      "execution_count": null,
      "outputs": [
        {
          "output_type": "execute_result",
          "data": {
            "text/plain": [
              "array([0.18626021, 0.34556073, 0.39676747, 0.53881673, 0.41919451,\n",
              "       0.6852195 , 0.20445225, 0.87811744, 0.02738759, 0.67046751])"
            ]
          },
          "metadata": {},
          "execution_count": 9
        }
      ]
    },
    {
      "cell_type": "code",
      "source": [
        "np.random.randn(10)"
      ],
      "metadata": {
        "colab": {
          "base_uri": "https://localhost:8080/"
        },
        "id": "2NGC47CW5x9J",
        "outputId": "40bdca9d-f734-4592-c8b4-0f7b3a126e49"
      },
      "execution_count": null,
      "outputs": [
        {
          "output_type": "execute_result",
          "data": {
            "text/plain": [
              "array([ 1.46210794, -2.06014071, -0.3224172 , -0.38405435,  1.13376944,\n",
              "       -1.09989127, -0.17242821, -0.87785842,  0.04221375,  0.58281521])"
            ]
          },
          "metadata": {},
          "execution_count": 10
        }
      ]
    },
    {
      "cell_type": "code",
      "source": [
        "x = np.random.randint(1, 10, (4, 4))\n",
        "x"
      ],
      "metadata": {
        "colab": {
          "base_uri": "https://localhost:8080/"
        },
        "id": "Lukjxn9L50vJ",
        "outputId": "6d405ed9-4722-4418-f680-c75dcf26fcc4"
      },
      "execution_count": null,
      "outputs": [
        {
          "output_type": "execute_result",
          "data": {
            "text/plain": [
              "array([[5, 9, 2, 5],\n",
              "       [1, 4, 3, 1],\n",
              "       [5, 3, 8, 8],\n",
              "       [9, 7, 4, 8]])"
            ]
          },
          "metadata": {},
          "execution_count": 11
        }
      ]
    },
    {
      "cell_type": "code",
      "source": [
        "np.random.shuffle(x)\n",
        "x"
      ],
      "metadata": {
        "colab": {
          "base_uri": "https://localhost:8080/"
        },
        "id": "pFtsnLdW53Fn",
        "outputId": "790a5bf8-efc7-4903-f52a-7d4a5581d925"
      },
      "execution_count": null,
      "outputs": [
        {
          "output_type": "execute_result",
          "data": {
            "text/plain": [
              "array([[9, 7, 4, 8],\n",
              "       [5, 9, 2, 5],\n",
              "       [1, 4, 3, 1],\n",
              "       [5, 3, 8, 8]])"
            ]
          },
          "metadata": {},
          "execution_count": 12
        }
      ]
    },
    {
      "cell_type": "code",
      "source": [
        "arr = np.random.randint(0,10,(3,3))\n",
        "arr"
      ],
      "metadata": {
        "colab": {
          "base_uri": "https://localhost:8080/"
        },
        "id": "flbX-hvC56pW",
        "outputId": "70568dc7-accc-479f-a47c-36ba528cef49"
      },
      "execution_count": null,
      "outputs": [
        {
          "output_type": "execute_result",
          "data": {
            "text/plain": [
              "array([[2, 5, 7],\n",
              "       [8, 4, 4],\n",
              "       [7, 7, 4]])"
            ]
          },
          "metadata": {},
          "execution_count": 15
        }
      ]
    },
    {
      "cell_type": "code",
      "source": [
        " #np.any(arr > 5)\n",
        "\n",
        " #np.all(arr > 5)\n",
        "\n",
        "# np.all(arr < 10)\n",
        "\n",
        "# np.argmin(arr, 0)\n",
        "\n",
        "# np.argmax(arr, 1)\n",
        "\n",
        "# np.argsort(arr, axis=0)\n",
        "\n",
        "# arr[np.where(arr>5)]\n",
        "np.where(arr<5, 10, arr)"
      ],
      "metadata": {
        "colab": {
          "base_uri": "https://localhost:8080/"
        },
        "id": "Z-7YD3vD6Uwl",
        "outputId": "e35d8590-e22f-4257-d625-45a0d7fedecc"
      },
      "execution_count": null,
      "outputs": [
        {
          "output_type": "execute_result",
          "data": {
            "text/plain": [
              "array([[10,  5,  7],\n",
              "       [ 8, 10, 10],\n",
              "       [ 7,  7, 10]])"
            ]
          },
          "metadata": {},
          "execution_count": 18
        }
      ]
    },
    {
      "cell_type": "code",
      "source": [
        "arr = np.random.randint(0,10,(4,4))\n",
        "arr"
      ],
      "metadata": {
        "colab": {
          "base_uri": "https://localhost:8080/"
        },
        "id": "mujc3iDO6Adp",
        "outputId": "963b52cb-47df-48e8-c1e3-e7d301b410ce"
      },
      "execution_count": null,
      "outputs": [
        {
          "output_type": "execute_result",
          "data": {
            "text/plain": [
              "array([[9, 0, 2, 0],\n",
              "       [7, 1, 7, 9],\n",
              "       [8, 4, 0, 1],\n",
              "       [9, 8, 2, 3]])"
            ]
          },
          "metadata": {},
          "execution_count": 20
        }
      ]
    },
    {
      "cell_type": "code",
      "source": [
        "# np.max(arr, 1)\n",
        "\n",
        "# np.mean(arr, 0)\n",
        "\n",
        "# np.min(arr, 1)\n",
        "\n",
        "# np.std(arr), np.std(arr, 0)\n",
        "\n",
        "np.sum(arr)"
      ],
      "metadata": {
        "colab": {
          "base_uri": "https://localhost:8080/"
        },
        "id": "Tk1B2LHM6DZ5",
        "outputId": "201194d4-5cfe-46f1-ee09-108e0f9a9b4e"
      },
      "execution_count": null,
      "outputs": [
        {
          "output_type": "execute_result",
          "data": {
            "text/plain": [
              "70"
            ]
          },
          "metadata": {},
          "execution_count": 23
        }
      ]
    },
    {
      "cell_type": "code",
      "source": [
        "arr = np.random.randint(0,10,(2,4))\n",
        "arr"
      ],
      "metadata": {
        "colab": {
          "base_uri": "https://localhost:8080/"
        },
        "id": "ZYUcm8rb6eKV",
        "outputId": "62a4b421-af06-4004-c9cb-fed80f987cd6"
      },
      "execution_count": null,
      "outputs": [
        {
          "output_type": "execute_result",
          "data": {
            "text/plain": [
              "array([[1, 2, 7, 2],\n",
              "       [6, 0, 9, 2]])"
            ]
          },
          "metadata": {},
          "execution_count": 24
        }
      ]
    },
    {
      "cell_type": "code",
      "source": [
        "arr1 = arr[..., np.newaxis]\n",
        "#arr1.shape\n",
        "\n",
        "#arr2 = np.squeeze(arr1, axis=-1)\n",
        "#arr2.shape\n",
        "\n",
        "#arr3 = np.transpose(arr1, (2,1,0))\n",
        "#arr1.shape , arr3.shape\n",
        "#arr4 = arr1.reshape(4,2,1) \n",
        "#arr4.shape\n",
        "\n",
        "arr5 = arr2.T\n",
        "arr.shape, arr5.shape"
      ],
      "metadata": {
        "colab": {
          "base_uri": "https://localhost:8080/"
        },
        "id": "5PQHOa3N6zrT",
        "outputId": "b01cffa4-edb3-4196-efbb-008adf13899b"
      },
      "execution_count": null,
      "outputs": [
        {
          "output_type": "execute_result",
          "data": {
            "text/plain": [
              "((2, 4), (4, 2))"
            ]
          },
          "metadata": {},
          "execution_count": 39
        }
      ]
    },
    {
      "cell_type": "code",
      "source": [
        " "
      ],
      "metadata": {
        "id": "jpeqU_3J65ix"
      },
      "execution_count": null,
      "outputs": []
    }
  ]
}