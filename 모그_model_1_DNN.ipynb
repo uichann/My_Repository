{
  "nbformat": 4,
  "nbformat_minor": 0,
  "metadata": {
    "colab": {
      "provenance": [],
      "mount_file_id": "1GwKcx7DNdM42QO3pFcTn5o_ZGYfcJCgh",
      "authorship_tag": "ABX9TyN0DYUAJe9TKHBDmZfvWK/f",
      "include_colab_link": true
    },
    "kernelspec": {
      "name": "python3",
      "display_name": "Python 3"
    },
    "language_info": {
      "name": "python"
    },
    "accelerator": "GPU",
    "gpuClass": "standard"
  },
  "cells": [
    {
      "cell_type": "markdown",
      "metadata": {
        "id": "view-in-github",
        "colab_type": "text"
      },
      "source": [
        "<a href=\"https://colab.research.google.com/github/uichann/My_Repository/blob/main/%EB%AA%A8%EA%B7%B8_model_1_DNN.ipynb\" target=\"_parent\"><img src=\"https://colab.research.google.com/assets/colab-badge.svg\" alt=\"Open In Colab\"/></a>"
      ]
    },
    {
      "cell_type": "code",
      "execution_count": 1,
      "metadata": {
        "id": "oWVWIoE5Jb8F"
      },
      "outputs": [],
      "source": [
        "import warnings\n",
        "warnings.filterwarnings('ignore')\n",
        "\n",
        "import numpy as np\n",
        "import pandas as pd\n",
        "from tqdm.notebook import tqdm\n",
        "from sklearn.model_selection import train_test_split\n",
        "from collections import defaultdict\n",
        "import os, random\n",
        "\n",
        "from scipy import sparse\n",
        "from sklearn.preprocessing import LabelEncoder\n",
        "import matplotlib.pyplot as plt\n",
        "%matplotlib inline\n",
        "\n",
        "import torch\n",
        "import torch.nn as nn\n",
        "from torch.nn.init import normal_\n",
        "from torch.utils.data import TensorDataset, DataLoader\n",
        "import torch.nn.functional as F\n",
        "\n",
        "import plotnine\n",
        "from plotnine import *\n",
        "\n"
      ]
    },
    {
      "cell_type": "code",
      "source": [
        "data = pd.read_excel(\"/content/drive/MyDrive/sample_data_MORG.xlsx\")"
      ],
      "metadata": {
        "id": "bu8_PxCJJgKH"
      },
      "execution_count": 2,
      "outputs": []
    },
    {
      "cell_type": "code",
      "source": [
        "data"
      ],
      "metadata": {
        "colab": {
          "base_uri": "https://localhost:8080/",
          "height": 485
        },
        "id": "NOGvzPSsVh08",
        "outputId": "1e8091cf-865b-4baa-f80a-216a510d8688"
      },
      "execution_count": 3,
      "outputs": [
        {
          "output_type": "execute_result",
          "data": {
            "text/plain": [
              "       HUMAN ID 성별  나이            키        가슴너비        허리너비  엉덩이너비   가슴두께  \\\n",
              "0     120100196  남   7  1330.000000  206.000000  198.000000  239.0  151.0   \n",
              "1     120100197  남   7  1160.000000  179.000000  148.000000  198.0  128.0   \n",
              "2     120100198  남   7  1243.000000  208.000000  195.000000  216.0  129.0   \n",
              "3     120100199  남   7  1144.000000  206.000000  173.000000  200.0  126.0   \n",
              "4     120100200  남   7  1277.000000  235.930615  238.363337  255.0  142.0   \n",
              "...         ... ..  ..          ...         ...         ...    ...    ...   \n",
              "4871  220105675  여  13  1632.000000  252.000000  215.000000  320.0  161.0   \n",
              "4872  220105676  여  13  1394.498785  214.000000  196.000000  253.0  147.0   \n",
              "4873  220105677  여  13  1527.000000  242.000000  222.000000  304.0  180.0   \n",
              "4874  220105678  여  13  1457.000000  217.000000  206.000000  268.0  157.0   \n",
              "4875  220105679  여  13  1565.000000  248.000000  203.000000  283.0  164.0   \n",
              "\n",
              "            허리두께  엉덩이두께  ...         배둘레  엉덩이둘레   어깨너비  장딴지둘레  종아리최소둘레   몸무게  \\\n",
              "0     175.000000  157.0  ...  664.000000  727.0  276.0  286.0    181.0  31.6   \n",
              "1     118.000000  125.0  ...  498.000000  572.0  235.0  233.0    150.0  19.4   \n",
              "2     130.000000  146.0  ...  557.000000  627.0  286.0  265.0    161.0  23.6   \n",
              "3     130.000000  145.0  ...  507.000000  602.0  260.0  239.0    160.0  19.9   \n",
              "4     195.000000  182.0  ...  743.846722  770.0  310.0  308.0    199.0  37.1   \n",
              "...          ...    ...  ...         ...    ...    ...    ...      ...   ...   \n",
              "4871  160.000000  207.0  ...  782.000000  916.0  335.0  335.0    212.0  52.1   \n",
              "4872  133.000000  164.0  ...  629.000000  728.0  296.0  261.0    182.0  30.1   \n",
              "4873  161.000000  195.0  ...  724.000000  844.0  335.0  341.0    209.0  48.0   \n",
              "4874  153.382488  257.0  ...  652.000000  748.0  315.0  286.0    194.0  34.6   \n",
              "4875  152.000000  192.0  ...  651.000000  785.0  320.0  304.0    208.0  40.1   \n",
              "\n",
              "      골격근량  체지방량   BMI  체지방률  \n",
              "0     11.1   9.3  17.9  29.3  \n",
              "1      8.3   2.5  14.4  12.7  \n",
              "2      9.6   3.8  15.4  16.3  \n",
              "3      7.3   4.0  15.3  20.2  \n",
              "4     12.4  12.7  22.7  34.1  \n",
              "...    ...   ...   ...   ...  \n",
              "4871  21.3  12.6  19.6  24.2  \n",
              "4872  12.0   6.3  15.6  20.9  \n",
              "4873  18.3  13.4  20.5  27.9  \n",
              "4874  14.2   6.9  16.2  19.9  \n",
              "4875  17.3   7.1  16.3  17.6  \n",
              "\n",
              "[4876 rows x 22 columns]"
            ],
            "text/html": [
              "\n",
              "  <div id=\"df-65ba8488-fb8f-47bc-bc0e-5b785aa284b0\">\n",
              "    <div class=\"colab-df-container\">\n",
              "      <div>\n",
              "<style scoped>\n",
              "    .dataframe tbody tr th:only-of-type {\n",
              "        vertical-align: middle;\n",
              "    }\n",
              "\n",
              "    .dataframe tbody tr th {\n",
              "        vertical-align: top;\n",
              "    }\n",
              "\n",
              "    .dataframe thead th {\n",
              "        text-align: right;\n",
              "    }\n",
              "</style>\n",
              "<table border=\"1\" class=\"dataframe\">\n",
              "  <thead>\n",
              "    <tr style=\"text-align: right;\">\n",
              "      <th></th>\n",
              "      <th>HUMAN ID</th>\n",
              "      <th>성별</th>\n",
              "      <th>나이</th>\n",
              "      <th>키</th>\n",
              "      <th>가슴너비</th>\n",
              "      <th>허리너비</th>\n",
              "      <th>엉덩이너비</th>\n",
              "      <th>가슴두께</th>\n",
              "      <th>허리두께</th>\n",
              "      <th>엉덩이두께</th>\n",
              "      <th>...</th>\n",
              "      <th>배둘레</th>\n",
              "      <th>엉덩이둘레</th>\n",
              "      <th>어깨너비</th>\n",
              "      <th>장딴지둘레</th>\n",
              "      <th>종아리최소둘레</th>\n",
              "      <th>몸무게</th>\n",
              "      <th>골격근량</th>\n",
              "      <th>체지방량</th>\n",
              "      <th>BMI</th>\n",
              "      <th>체지방률</th>\n",
              "    </tr>\n",
              "  </thead>\n",
              "  <tbody>\n",
              "    <tr>\n",
              "      <th>0</th>\n",
              "      <td>120100196</td>\n",
              "      <td>남</td>\n",
              "      <td>7</td>\n",
              "      <td>1330.000000</td>\n",
              "      <td>206.000000</td>\n",
              "      <td>198.000000</td>\n",
              "      <td>239.0</td>\n",
              "      <td>151.0</td>\n",
              "      <td>175.000000</td>\n",
              "      <td>157.0</td>\n",
              "      <td>...</td>\n",
              "      <td>664.000000</td>\n",
              "      <td>727.0</td>\n",
              "      <td>276.0</td>\n",
              "      <td>286.0</td>\n",
              "      <td>181.0</td>\n",
              "      <td>31.6</td>\n",
              "      <td>11.1</td>\n",
              "      <td>9.3</td>\n",
              "      <td>17.9</td>\n",
              "      <td>29.3</td>\n",
              "    </tr>\n",
              "    <tr>\n",
              "      <th>1</th>\n",
              "      <td>120100197</td>\n",
              "      <td>남</td>\n",
              "      <td>7</td>\n",
              "      <td>1160.000000</td>\n",
              "      <td>179.000000</td>\n",
              "      <td>148.000000</td>\n",
              "      <td>198.0</td>\n",
              "      <td>128.0</td>\n",
              "      <td>118.000000</td>\n",
              "      <td>125.0</td>\n",
              "      <td>...</td>\n",
              "      <td>498.000000</td>\n",
              "      <td>572.0</td>\n",
              "      <td>235.0</td>\n",
              "      <td>233.0</td>\n",
              "      <td>150.0</td>\n",
              "      <td>19.4</td>\n",
              "      <td>8.3</td>\n",
              "      <td>2.5</td>\n",
              "      <td>14.4</td>\n",
              "      <td>12.7</td>\n",
              "    </tr>\n",
              "    <tr>\n",
              "      <th>2</th>\n",
              "      <td>120100198</td>\n",
              "      <td>남</td>\n",
              "      <td>7</td>\n",
              "      <td>1243.000000</td>\n",
              "      <td>208.000000</td>\n",
              "      <td>195.000000</td>\n",
              "      <td>216.0</td>\n",
              "      <td>129.0</td>\n",
              "      <td>130.000000</td>\n",
              "      <td>146.0</td>\n",
              "      <td>...</td>\n",
              "      <td>557.000000</td>\n",
              "      <td>627.0</td>\n",
              "      <td>286.0</td>\n",
              "      <td>265.0</td>\n",
              "      <td>161.0</td>\n",
              "      <td>23.6</td>\n",
              "      <td>9.6</td>\n",
              "      <td>3.8</td>\n",
              "      <td>15.4</td>\n",
              "      <td>16.3</td>\n",
              "    </tr>\n",
              "    <tr>\n",
              "      <th>3</th>\n",
              "      <td>120100199</td>\n",
              "      <td>남</td>\n",
              "      <td>7</td>\n",
              "      <td>1144.000000</td>\n",
              "      <td>206.000000</td>\n",
              "      <td>173.000000</td>\n",
              "      <td>200.0</td>\n",
              "      <td>126.0</td>\n",
              "      <td>130.000000</td>\n",
              "      <td>145.0</td>\n",
              "      <td>...</td>\n",
              "      <td>507.000000</td>\n",
              "      <td>602.0</td>\n",
              "      <td>260.0</td>\n",
              "      <td>239.0</td>\n",
              "      <td>160.0</td>\n",
              "      <td>19.9</td>\n",
              "      <td>7.3</td>\n",
              "      <td>4.0</td>\n",
              "      <td>15.3</td>\n",
              "      <td>20.2</td>\n",
              "    </tr>\n",
              "    <tr>\n",
              "      <th>4</th>\n",
              "      <td>120100200</td>\n",
              "      <td>남</td>\n",
              "      <td>7</td>\n",
              "      <td>1277.000000</td>\n",
              "      <td>235.930615</td>\n",
              "      <td>238.363337</td>\n",
              "      <td>255.0</td>\n",
              "      <td>142.0</td>\n",
              "      <td>195.000000</td>\n",
              "      <td>182.0</td>\n",
              "      <td>...</td>\n",
              "      <td>743.846722</td>\n",
              "      <td>770.0</td>\n",
              "      <td>310.0</td>\n",
              "      <td>308.0</td>\n",
              "      <td>199.0</td>\n",
              "      <td>37.1</td>\n",
              "      <td>12.4</td>\n",
              "      <td>12.7</td>\n",
              "      <td>22.7</td>\n",
              "      <td>34.1</td>\n",
              "    </tr>\n",
              "    <tr>\n",
              "      <th>...</th>\n",
              "      <td>...</td>\n",
              "      <td>...</td>\n",
              "      <td>...</td>\n",
              "      <td>...</td>\n",
              "      <td>...</td>\n",
              "      <td>...</td>\n",
              "      <td>...</td>\n",
              "      <td>...</td>\n",
              "      <td>...</td>\n",
              "      <td>...</td>\n",
              "      <td>...</td>\n",
              "      <td>...</td>\n",
              "      <td>...</td>\n",
              "      <td>...</td>\n",
              "      <td>...</td>\n",
              "      <td>...</td>\n",
              "      <td>...</td>\n",
              "      <td>...</td>\n",
              "      <td>...</td>\n",
              "      <td>...</td>\n",
              "      <td>...</td>\n",
              "    </tr>\n",
              "    <tr>\n",
              "      <th>4871</th>\n",
              "      <td>220105675</td>\n",
              "      <td>여</td>\n",
              "      <td>13</td>\n",
              "      <td>1632.000000</td>\n",
              "      <td>252.000000</td>\n",
              "      <td>215.000000</td>\n",
              "      <td>320.0</td>\n",
              "      <td>161.0</td>\n",
              "      <td>160.000000</td>\n",
              "      <td>207.0</td>\n",
              "      <td>...</td>\n",
              "      <td>782.000000</td>\n",
              "      <td>916.0</td>\n",
              "      <td>335.0</td>\n",
              "      <td>335.0</td>\n",
              "      <td>212.0</td>\n",
              "      <td>52.1</td>\n",
              "      <td>21.3</td>\n",
              "      <td>12.6</td>\n",
              "      <td>19.6</td>\n",
              "      <td>24.2</td>\n",
              "    </tr>\n",
              "    <tr>\n",
              "      <th>4872</th>\n",
              "      <td>220105676</td>\n",
              "      <td>여</td>\n",
              "      <td>13</td>\n",
              "      <td>1394.498785</td>\n",
              "      <td>214.000000</td>\n",
              "      <td>196.000000</td>\n",
              "      <td>253.0</td>\n",
              "      <td>147.0</td>\n",
              "      <td>133.000000</td>\n",
              "      <td>164.0</td>\n",
              "      <td>...</td>\n",
              "      <td>629.000000</td>\n",
              "      <td>728.0</td>\n",
              "      <td>296.0</td>\n",
              "      <td>261.0</td>\n",
              "      <td>182.0</td>\n",
              "      <td>30.1</td>\n",
              "      <td>12.0</td>\n",
              "      <td>6.3</td>\n",
              "      <td>15.6</td>\n",
              "      <td>20.9</td>\n",
              "    </tr>\n",
              "    <tr>\n",
              "      <th>4873</th>\n",
              "      <td>220105677</td>\n",
              "      <td>여</td>\n",
              "      <td>13</td>\n",
              "      <td>1527.000000</td>\n",
              "      <td>242.000000</td>\n",
              "      <td>222.000000</td>\n",
              "      <td>304.0</td>\n",
              "      <td>180.0</td>\n",
              "      <td>161.000000</td>\n",
              "      <td>195.0</td>\n",
              "      <td>...</td>\n",
              "      <td>724.000000</td>\n",
              "      <td>844.0</td>\n",
              "      <td>335.0</td>\n",
              "      <td>341.0</td>\n",
              "      <td>209.0</td>\n",
              "      <td>48.0</td>\n",
              "      <td>18.3</td>\n",
              "      <td>13.4</td>\n",
              "      <td>20.5</td>\n",
              "      <td>27.9</td>\n",
              "    </tr>\n",
              "    <tr>\n",
              "      <th>4874</th>\n",
              "      <td>220105678</td>\n",
              "      <td>여</td>\n",
              "      <td>13</td>\n",
              "      <td>1457.000000</td>\n",
              "      <td>217.000000</td>\n",
              "      <td>206.000000</td>\n",
              "      <td>268.0</td>\n",
              "      <td>157.0</td>\n",
              "      <td>153.382488</td>\n",
              "      <td>257.0</td>\n",
              "      <td>...</td>\n",
              "      <td>652.000000</td>\n",
              "      <td>748.0</td>\n",
              "      <td>315.0</td>\n",
              "      <td>286.0</td>\n",
              "      <td>194.0</td>\n",
              "      <td>34.6</td>\n",
              "      <td>14.2</td>\n",
              "      <td>6.9</td>\n",
              "      <td>16.2</td>\n",
              "      <td>19.9</td>\n",
              "    </tr>\n",
              "    <tr>\n",
              "      <th>4875</th>\n",
              "      <td>220105679</td>\n",
              "      <td>여</td>\n",
              "      <td>13</td>\n",
              "      <td>1565.000000</td>\n",
              "      <td>248.000000</td>\n",
              "      <td>203.000000</td>\n",
              "      <td>283.0</td>\n",
              "      <td>164.0</td>\n",
              "      <td>152.000000</td>\n",
              "      <td>192.0</td>\n",
              "      <td>...</td>\n",
              "      <td>651.000000</td>\n",
              "      <td>785.0</td>\n",
              "      <td>320.0</td>\n",
              "      <td>304.0</td>\n",
              "      <td>208.0</td>\n",
              "      <td>40.1</td>\n",
              "      <td>17.3</td>\n",
              "      <td>7.1</td>\n",
              "      <td>16.3</td>\n",
              "      <td>17.6</td>\n",
              "    </tr>\n",
              "  </tbody>\n",
              "</table>\n",
              "<p>4876 rows × 22 columns</p>\n",
              "</div>\n",
              "      <button class=\"colab-df-convert\" onclick=\"convertToInteractive('df-65ba8488-fb8f-47bc-bc0e-5b785aa284b0')\"\n",
              "              title=\"Convert this dataframe to an interactive table.\"\n",
              "              style=\"display:none;\">\n",
              "        \n",
              "  <svg xmlns=\"http://www.w3.org/2000/svg\" height=\"24px\"viewBox=\"0 0 24 24\"\n",
              "       width=\"24px\">\n",
              "    <path d=\"M0 0h24v24H0V0z\" fill=\"none\"/>\n",
              "    <path d=\"M18.56 5.44l.94 2.06.94-2.06 2.06-.94-2.06-.94-.94-2.06-.94 2.06-2.06.94zm-11 1L8.5 8.5l.94-2.06 2.06-.94-2.06-.94L8.5 2.5l-.94 2.06-2.06.94zm10 10l.94 2.06.94-2.06 2.06-.94-2.06-.94-.94-2.06-.94 2.06-2.06.94z\"/><path d=\"M17.41 7.96l-1.37-1.37c-.4-.4-.92-.59-1.43-.59-.52 0-1.04.2-1.43.59L10.3 9.45l-7.72 7.72c-.78.78-.78 2.05 0 2.83L4 21.41c.39.39.9.59 1.41.59.51 0 1.02-.2 1.41-.59l7.78-7.78 2.81-2.81c.8-.78.8-2.07 0-2.86zM5.41 20L4 18.59l7.72-7.72 1.47 1.35L5.41 20z\"/>\n",
              "  </svg>\n",
              "      </button>\n",
              "      \n",
              "  <style>\n",
              "    .colab-df-container {\n",
              "      display:flex;\n",
              "      flex-wrap:wrap;\n",
              "      gap: 12px;\n",
              "    }\n",
              "\n",
              "    .colab-df-convert {\n",
              "      background-color: #E8F0FE;\n",
              "      border: none;\n",
              "      border-radius: 50%;\n",
              "      cursor: pointer;\n",
              "      display: none;\n",
              "      fill: #1967D2;\n",
              "      height: 32px;\n",
              "      padding: 0 0 0 0;\n",
              "      width: 32px;\n",
              "    }\n",
              "\n",
              "    .colab-df-convert:hover {\n",
              "      background-color: #E2EBFA;\n",
              "      box-shadow: 0px 1px 2px rgba(60, 64, 67, 0.3), 0px 1px 3px 1px rgba(60, 64, 67, 0.15);\n",
              "      fill: #174EA6;\n",
              "    }\n",
              "\n",
              "    [theme=dark] .colab-df-convert {\n",
              "      background-color: #3B4455;\n",
              "      fill: #D2E3FC;\n",
              "    }\n",
              "\n",
              "    [theme=dark] .colab-df-convert:hover {\n",
              "      background-color: #434B5C;\n",
              "      box-shadow: 0px 1px 3px 1px rgba(0, 0, 0, 0.15);\n",
              "      filter: drop-shadow(0px 1px 2px rgba(0, 0, 0, 0.3));\n",
              "      fill: #FFFFFF;\n",
              "    }\n",
              "  </style>\n",
              "\n",
              "      <script>\n",
              "        const buttonEl =\n",
              "          document.querySelector('#df-65ba8488-fb8f-47bc-bc0e-5b785aa284b0 button.colab-df-convert');\n",
              "        buttonEl.style.display =\n",
              "          google.colab.kernel.accessAllowed ? 'block' : 'none';\n",
              "\n",
              "        async function convertToInteractive(key) {\n",
              "          const element = document.querySelector('#df-65ba8488-fb8f-47bc-bc0e-5b785aa284b0');\n",
              "          const dataTable =\n",
              "            await google.colab.kernel.invokeFunction('convertToInteractive',\n",
              "                                                     [key], {});\n",
              "          if (!dataTable) return;\n",
              "\n",
              "          const docLinkHtml = 'Like what you see? Visit the ' +\n",
              "            '<a target=\"_blank\" href=https://colab.research.google.com/notebooks/data_table.ipynb>data table notebook</a>'\n",
              "            + ' to learn more about interactive tables.';\n",
              "          element.innerHTML = '';\n",
              "          dataTable['output_type'] = 'display_data';\n",
              "          await google.colab.output.renderOutput(dataTable, element);\n",
              "          const docLink = document.createElement('div');\n",
              "          docLink.innerHTML = docLinkHtml;\n",
              "          element.appendChild(docLink);\n",
              "        }\n",
              "      </script>\n",
              "    </div>\n",
              "  </div>\n",
              "  "
            ]
          },
          "metadata": {},
          "execution_count": 3
        }
      ]
    },
    {
      "cell_type": "code",
      "source": [
        "data = data[['성별','나이','키','몸무게','가슴너비','허리너비','엉덩이너비','어깨너비','BMI','가슴둘레','허리둘레','종아리최소둘레','엉덩이둘레','체지방률']].reset_index(drop = True)\n",
        "\n"
      ],
      "metadata": {
        "id": "_9kzD5dzJss-"
      },
      "execution_count": 4,
      "outputs": []
    },
    {
      "cell_type": "code",
      "source": [
        "data.columns = ['Sex','Age','Heigt','weight','Chest_wid','waist_wid','hip_wid','shoul_wid','BMI','bust','waist_cir','calf_cir','hip_cir','body_fat']"
      ],
      "metadata": {
        "id": "QemyreuVJvtc"
      },
      "execution_count": 5,
      "outputs": []
    },
    {
      "cell_type": "code",
      "source": [
        "data['Sex'] = data['Sex'].map({'남': 1, '여': 0})"
      ],
      "metadata": {
        "id": "c6oUEbF8Jxew"
      },
      "execution_count": 6,
      "outputs": []
    },
    {
      "cell_type": "code",
      "source": [
        "data.dropna(inplace=True)"
      ],
      "metadata": {
        "id": "z3zxjStdJ0D7"
      },
      "execution_count": 7,
      "outputs": []
    },
    {
      "cell_type": "code",
      "source": [
        "data.isnull().sum()"
      ],
      "metadata": {
        "colab": {
          "base_uri": "https://localhost:8080/"
        },
        "id": "10Bj92P5J2J2",
        "outputId": "2247c623-e772-448d-88e4-97ad7d6dbd27"
      },
      "execution_count": 8,
      "outputs": [
        {
          "output_type": "execute_result",
          "data": {
            "text/plain": [
              "Sex          0\n",
              "Age          0\n",
              "Heigt        0\n",
              "weight       0\n",
              "Chest_wid    0\n",
              "waist_wid    0\n",
              "hip_wid      0\n",
              "shoul_wid    0\n",
              "BMI          0\n",
              "bust         0\n",
              "waist_cir    0\n",
              "calf_cir     0\n",
              "hip_cir      0\n",
              "body_fat     0\n",
              "dtype: int64"
            ]
          },
          "metadata": {},
          "execution_count": 8
        }
      ]
    },
    {
      "cell_type": "code",
      "source": [
        "Q1 = data[['Sex','Age','Heigt','weight','Chest_wid','waist_wid','hip_wid','shoul_wid','BMI','bust','waist_cir','calf_cir','hip_cir','body_fat']].quantile(q=0.25)\n",
        "Q3 = data[['Sex','Age','Heigt','weight','Chest_wid','waist_wid','hip_wid','shoul_wid','BMI','bust','waist_cir','calf_cir','hip_cir','body_fat']].quantile(q=0.75)\n"
      ],
      "metadata": {
        "id": "SHTfQEcYwJ_1"
      },
      "execution_count": 9,
      "outputs": []
    },
    {
      "cell_type": "code",
      "source": [
        "IQR = Q3-Q1"
      ],
      "metadata": {
        "id": "3xmI16ubwOhj"
      },
      "execution_count": 11,
      "outputs": []
    },
    {
      "cell_type": "code",
      "source": [
        "#이상치 제거\n",
        "IQR_df = data[(data['Sex'] <= Q3['Sex']+1.5*IQR['Sex']) & (data['Sex'] >= Q1['Sex']-1.5*IQR['Sex'])]\n",
        "IQR_df = IQR_df[(IQR_df['Age'] <= Q3['Age']+1.5*IQR['Age']) & (IQR_df['Age'] >= Q1['Age']-1.5*IQR['Age'])]\n",
        "IQR_df = IQR_df[(IQR_df['Heigt'] <= Q3['Heigt']+1.5*IQR['Heigt']) & (IQR_df['Heigt'] >= Q1['Heigt']-1.5*IQR['Heigt'])]\n",
        "IQR_df = IQR_df[(IQR_df['weight'] <= Q3['weight']+1.5*IQR['weight']) & (IQR_df['weight'] >= Q1['weight']-1.5*IQR['weight'])]\n",
        "IQR_df = IQR_df[(IQR_df['Chest_wid'] <= Q3['Chest_wid']+1.5*IQR['Chest_wid']) & (IQR_df['Chest_wid'] >= Q1['Chest_wid']-1.5*IQR['Chest_wid'])]\n",
        "IQR_df = IQR_df[(IQR_df['waist_wid'] <= Q3['waist_wid']+1.5*IQR['waist_wid']) & (IQR_df['waist_wid'] >= Q1['waist_wid']-1.5*IQR['waist_wid'])]\n",
        "IQR_df = IQR_df[(IQR_df['hip_wid'] <= Q3['hip_wid']+1.5*IQR['hip_wid']) & (IQR_df['hip_wid'] >= Q1['hip_wid']-1.5*IQR['hip_wid'])]\n",
        "IQR_df = IQR_df[(IQR_df['shoul_wid'] <= Q3['shoul_wid']+1.5*IQR['shoul_wid']) & (IQR_df['shoul_wid'] >= Q1['shoul_wid']-1.5*IQR['shoul_wid'])]\n",
        "IQR_df = IQR_df[(IQR_df['bust'] <= Q3['bust']+1.5*IQR['bust']) & (IQR_df['bust'] >= Q1['bust']-1.5*IQR['bust'])]\n",
        "IQR_df = IQR_df[(IQR_df['waist_cir'] <= Q3['waist_cir']+1.5*IQR['waist_cir']) & (IQR_df['waist_cir'] >= Q1['waist_cir']-1.5*IQR['waist_cir'])]\n",
        "IQR_df = IQR_df[(IQR_df['calf_cir'] <= Q3['calf_cir']+1.5*IQR['calf_cir']) & (IQR_df['calf_cir'] >= Q1['calf_cir']-1.5*IQR['calf_cir'])]\n",
        "IQR_df = IQR_df[(IQR_df['hip_cir'] <= Q3['hip_cir']+1.5*IQR['hip_cir']) & (IQR_df['hip_cir'] >= Q1['hip_cir']-1.5*IQR['hip_cir'])]\n",
        "IQR_df = IQR_df[(IQR_df['body_fat'] <= Q3['body_fat']+1.5*IQR['body_fat']) & (IQR_df['body_fat'] >= Q1['body_fat']-1.5*IQR['body_fat'])]\n",
        "\n",
        "IQR_df = IQR_df[['Sex','Age','Heigt','weight','Chest_wid','waist_wid','hip_wid','shoul_wid','BMI','bust','waist_cir','calf_cir','hip_cir','body_fat']]\n",
        "\n",
        "print('original_df :', len(data))\n",
        "print('IQR_df :', len(IQR_df))\n",
        "\n",
        "data=IQR_df"
      ],
      "metadata": {
        "colab": {
          "base_uri": "https://localhost:8080/"
        },
        "id": "Sgm7mNAhwOfO",
        "outputId": "e800f2b4-13a3-44c8-ae12-3812aba20464"
      },
      "execution_count": 12,
      "outputs": [
        {
          "output_type": "stream",
          "name": "stdout",
          "text": [
            "original_df : 4270\n",
            "IQR_df : 4159\n"
          ]
        }
      ]
    },
    {
      "cell_type": "code",
      "source": [
        "data['body_fat'] = data['body_fat'].round()"
      ],
      "metadata": {
        "id": "ai1VDiVpfI75"
      },
      "execution_count": 13,
      "outputs": []
    },
    {
      "cell_type": "code",
      "source": [
        "pip install tensorflow_addons"
      ],
      "metadata": {
        "colab": {
          "base_uri": "https://localhost:8080/"
        },
        "id": "EcXHrcHY8fn2",
        "outputId": "489cb009-72e4-4fa0-8782-d72f7ae61ea0"
      },
      "execution_count": 14,
      "outputs": [
        {
          "output_type": "stream",
          "name": "stdout",
          "text": [
            "Looking in indexes: https://pypi.org/simple, https://us-python.pkg.dev/colab-wheels/public/simple/\n",
            "Collecting tensorflow_addons\n",
            "  Downloading tensorflow_addons-0.18.0-cp37-cp37m-manylinux_2_17_x86_64.manylinux2014_x86_64.whl (1.1 MB)\n",
            "\u001b[K     |████████████████████████████████| 1.1 MB 30.5 MB/s \n",
            "\u001b[?25hRequirement already satisfied: typeguard>=2.7 in /usr/local/lib/python3.7/dist-packages (from tensorflow_addons) (2.7.1)\n",
            "Requirement already satisfied: packaging in /usr/local/lib/python3.7/dist-packages (from tensorflow_addons) (21.3)\n",
            "Requirement already satisfied: pyparsing!=3.0.5,>=2.0.2 in /usr/local/lib/python3.7/dist-packages (from packaging->tensorflow_addons) (3.0.9)\n",
            "Installing collected packages: tensorflow-addons\n",
            "Successfully installed tensorflow-addons-0.18.0\n"
          ]
        }
      ]
    },
    {
      "cell_type": "code",
      "source": [
        "import numpy as np\n",
        "import os, matplotlib\n",
        "from matplotlib import pyplot as plt\n",
        "\n",
        "### Tensorflow 2.0 ###\n",
        "import tensorflow as tf\n",
        "from tensorflow import keras\n",
        "from tensorflow.keras.models import Sequential, Model\n",
        "from tensorflow.keras import Input\n",
        "from tensorflow.keras import layers\n",
        "from tensorflow.keras import models\n",
        "from tensorflow.keras.preprocessing import image\n",
        "from tensorflow.keras.preprocessing.image import ImageDataGenerator\n",
        "from tensorflow.keras import losses\n",
        "from tensorflow.keras import optimizers\n",
        "from tensorflow.keras import metrics\n",
        "from tensorflow.keras import regularizers\n",
        "from tensorflow.keras import utils\n",
        "import tensorflow_addons as tfa"
      ],
      "metadata": {
        "id": "PnaHpktNKP0s"
      },
      "execution_count": 15,
      "outputs": []
    },
    {
      "cell_type": "code",
      "source": [
        "data.drop(columns=['Sex','Age','shoul_wid'],axis=1,inplace=True)"
      ],
      "metadata": {
        "id": "POEYb7BIG22a"
      },
      "execution_count": 16,
      "outputs": []
    },
    {
      "cell_type": "code",
      "source": [
        "x = data.drop(['body_fat'],axis=1).values\n",
        "y = data['body_fat'].values"
      ],
      "metadata": {
        "id": "YVK0mRksKcI9"
      },
      "execution_count": 17,
      "outputs": []
    },
    {
      "cell_type": "code",
      "source": [
        "x"
      ],
      "metadata": {
        "colab": {
          "base_uri": "https://localhost:8080/"
        },
        "id": "sxeBO27lqRzG",
        "outputId": "7fa76949-1c35-4d59-a19c-15db63ce7264"
      },
      "execution_count": 18,
      "outputs": [
        {
          "output_type": "execute_result",
          "data": {
            "text/plain": [
              "array([[1330. ,   31.6,  206. , ...,  624. ,  181. ,  727. ],\n",
              "       [1160. ,   19.4,  179. , ...,  498. ,  150. ,  572. ],\n",
              "       [1243. ,   23.6,  208. , ...,  543. ,  161. ,  627. ],\n",
              "       ...,\n",
              "       [1527. ,   48. ,  242. , ...,  662. ,  209. ,  844. ],\n",
              "       [1457. ,   34.6,  217. , ...,  600. ,  194. ,  748. ],\n",
              "       [1565. ,   40.1,  248. , ...,  609. ,  208. ,  785. ]])"
            ]
          },
          "metadata": {},
          "execution_count": 18
        }
      ]
    },
    {
      "cell_type": "code",
      "source": [
        "x_train, x_test, y_train, y_test = train_test_split(x, y, test_size=0.2, random_state=42)"
      ],
      "metadata": {
        "id": "uFwPcmCqKYvj"
      },
      "execution_count": 19,
      "outputs": []
    },
    {
      "cell_type": "code",
      "source": [
        "x_train.shape"
      ],
      "metadata": {
        "colab": {
          "base_uri": "https://localhost:8080/"
        },
        "id": "Z7Xrh2pqKon7",
        "outputId": "0d1c4cf5-7850-4359-b2d1-578b9ce4024d"
      },
      "execution_count": 22,
      "outputs": [
        {
          "output_type": "execute_result",
          "data": {
            "text/plain": [
              "(3327, 10)"
            ]
          },
          "metadata": {},
          "execution_count": 22
        }
      ]
    },
    {
      "cell_type": "code",
      "source": [
        "y_train.shape"
      ],
      "metadata": {
        "colab": {
          "base_uri": "https://localhost:8080/"
        },
        "id": "_N_Ap4zYKsP9",
        "outputId": "7cec6767-d3a5-4cc2-d947-78b7d720f482"
      },
      "execution_count": 23,
      "outputs": [
        {
          "output_type": "execute_result",
          "data": {
            "text/plain": [
              "(3327,)"
            ]
          },
          "metadata": {},
          "execution_count": 23
        }
      ]
    },
    {
      "cell_type": "code",
      "source": [
        "y_test.shape"
      ],
      "metadata": {
        "colab": {
          "base_uri": "https://localhost:8080/"
        },
        "id": "6wiLRHZsGOvN",
        "outputId": "45e2fbc5-5ebb-46f2-8bfa-f6a2fda13c1a"
      },
      "execution_count": 24,
      "outputs": [
        {
          "output_type": "execute_result",
          "data": {
            "text/plain": [
              "(832,)"
            ]
          },
          "metadata": {},
          "execution_count": 24
        }
      ]
    },
    {
      "cell_type": "code",
      "source": [
        "from sklearn.preprocessing import StandardScaler\n",
        "from sklearn.preprocessing import MinMaxScaler"
      ],
      "metadata": {
        "id": "cqWUuafr8wg7"
      },
      "execution_count": 25,
      "outputs": []
    },
    {
      "cell_type": "code",
      "source": [
        "#scalerX = StandardScaler()\n",
        "#scalerY = StandardScaler()\n",
        "scalerX = MinMaxScaler()\n",
        "scalerY = MinMaxScaler()\n",
        "x_train_scaled = scalerX.fit_transform(x_train)\n",
        "x_test_scaled = scalerX.transform(x_test)"
      ],
      "metadata": {
        "id": "fDjGSyQ-Nh2C"
      },
      "execution_count": 26,
      "outputs": []
    },
    {
      "cell_type": "code",
      "source": [
        "from sklearn.metrics import mean_squared_error"
      ],
      "metadata": {
        "id": "NgdRvk7CEx8K"
      },
      "execution_count": 27,
      "outputs": []
    },
    {
      "cell_type": "code",
      "source": [
        "model = keras.Sequential([\n",
        "    layers.InputLayer(input_shape=[10]),\n",
        "    layers.Dense(256, activation='relu'),\n",
        "    layers.Dropout(0.2),\n",
        "    layers.Dense(128, activation='relu'),\n",
        "    layers.Dropout(0.2),\n",
        "    layers.Dense(128, activation='relu'),\n",
        "    layers.Dropout(0.2),\n",
        "     layers.Dense(64, activation='relu'),\n",
        "    layers.Dropout(0.2),\n",
        "    layers.Dense(32, activation='relu'),\n",
        "    layers.Dropout(0.2),\n",
        "\n",
        "    layers.Dense(1)\n",
        "])\n",
        "model.compile(optimizer=keras.optimizers.Adam(0.0025), loss=keras.losses.Huber())\n",
        "model.summary()"
      ],
      "metadata": {
        "colab": {
          "base_uri": "https://localhost:8080/"
        },
        "id": "gXIEH0iE8UUJ",
        "outputId": "dd097985-12ea-48a3-a4c2-297e516cf1cc"
      },
      "execution_count": 28,
      "outputs": [
        {
          "output_type": "stream",
          "name": "stdout",
          "text": [
            "Model: \"sequential\"\n",
            "_________________________________________________________________\n",
            " Layer (type)                Output Shape              Param #   \n",
            "=================================================================\n",
            " dense (Dense)               (None, 256)               2816      \n",
            "                                                                 \n",
            " dropout (Dropout)           (None, 256)               0         \n",
            "                                                                 \n",
            " dense_1 (Dense)             (None, 128)               32896     \n",
            "                                                                 \n",
            " dropout_1 (Dropout)         (None, 128)               0         \n",
            "                                                                 \n",
            " dense_2 (Dense)             (None, 128)               16512     \n",
            "                                                                 \n",
            " dropout_2 (Dropout)         (None, 128)               0         \n",
            "                                                                 \n",
            " dense_3 (Dense)             (None, 64)                8256      \n",
            "                                                                 \n",
            " dropout_3 (Dropout)         (None, 64)                0         \n",
            "                                                                 \n",
            " dense_4 (Dense)             (None, 32)                2080      \n",
            "                                                                 \n",
            " dropout_4 (Dropout)         (None, 32)                0         \n",
            "                                                                 \n",
            " dense_5 (Dense)             (None, 1)                 33        \n",
            "                                                                 \n",
            "=================================================================\n",
            "Total params: 62,593\n",
            "Trainable params: 62,593\n",
            "Non-trainable params: 0\n",
            "_________________________________________________________________\n"
          ]
        }
      ]
    },
    {
      "cell_type": "code",
      "source": [
        "history = model.fit(x_train_scaled, y_train, epochs=80,batch_size=40, validation_data=(x_test_scaled, y_test))"
      ],
      "metadata": {
        "colab": {
          "base_uri": "https://localhost:8080/"
        },
        "id": "ez2ZGiZi9-fW",
        "outputId": "a2e37c13-5338-4828-ecb7-3a5538ef6ef9"
      },
      "execution_count": 29,
      "outputs": [
        {
          "output_type": "stream",
          "name": "stdout",
          "text": [
            "Epoch 1/80\n",
            "84/84 [==============================] - 4s 6ms/step - loss: 8.5833 - val_loss: 3.5473\n",
            "Epoch 2/80\n",
            "84/84 [==============================] - 0s 4ms/step - loss: 5.0618 - val_loss: 4.2607\n",
            "Epoch 3/80\n",
            "84/84 [==============================] - 0s 4ms/step - loss: 4.5018 - val_loss: 3.3914\n",
            "Epoch 4/80\n",
            "84/84 [==============================] - 0s 4ms/step - loss: 4.2480 - val_loss: 2.6117\n",
            "Epoch 5/80\n",
            "84/84 [==============================] - 1s 6ms/step - loss: 4.2012 - val_loss: 2.6357\n",
            "Epoch 6/80\n",
            "84/84 [==============================] - 1s 8ms/step - loss: 4.0814 - val_loss: 2.7311\n",
            "Epoch 7/80\n",
            "84/84 [==============================] - 1s 7ms/step - loss: 3.8513 - val_loss: 2.5105\n",
            "Epoch 8/80\n",
            "84/84 [==============================] - 0s 4ms/step - loss: 3.8611 - val_loss: 2.6867\n",
            "Epoch 9/80\n",
            "84/84 [==============================] - 0s 4ms/step - loss: 3.8614 - val_loss: 2.6020\n",
            "Epoch 10/80\n",
            "84/84 [==============================] - 0s 4ms/step - loss: 3.9494 - val_loss: 2.5752\n",
            "Epoch 11/80\n",
            "84/84 [==============================] - 0s 4ms/step - loss: 3.7199 - val_loss: 2.6993\n",
            "Epoch 12/80\n",
            "84/84 [==============================] - 0s 4ms/step - loss: 3.7739 - val_loss: 2.5614\n",
            "Epoch 13/80\n",
            "84/84 [==============================] - 0s 4ms/step - loss: 3.6927 - val_loss: 2.6333\n",
            "Epoch 14/80\n",
            "84/84 [==============================] - 0s 4ms/step - loss: 3.6543 - val_loss: 3.4824\n",
            "Epoch 15/80\n",
            "84/84 [==============================] - 0s 4ms/step - loss: 3.6248 - val_loss: 2.9202\n",
            "Epoch 16/80\n",
            "84/84 [==============================] - 0s 4ms/step - loss: 3.6198 - val_loss: 2.4930\n",
            "Epoch 17/80\n",
            "84/84 [==============================] - 0s 4ms/step - loss: 3.7481 - val_loss: 3.4964\n",
            "Epoch 18/80\n",
            "84/84 [==============================] - 0s 3ms/step - loss: 3.6538 - val_loss: 2.7726\n",
            "Epoch 19/80\n",
            "84/84 [==============================] - 0s 3ms/step - loss: 3.8332 - val_loss: 2.5672\n",
            "Epoch 20/80\n",
            "84/84 [==============================] - 0s 4ms/step - loss: 3.6012 - val_loss: 2.5765\n",
            "Epoch 21/80\n",
            "84/84 [==============================] - 0s 3ms/step - loss: 3.6172 - val_loss: 2.8126\n",
            "Epoch 22/80\n",
            "84/84 [==============================] - 0s 4ms/step - loss: 3.5925 - val_loss: 2.7462\n",
            "Epoch 23/80\n",
            "84/84 [==============================] - 0s 4ms/step - loss: 3.5995 - val_loss: 2.8600\n",
            "Epoch 24/80\n",
            "84/84 [==============================] - 0s 4ms/step - loss: 3.4994 - val_loss: 2.5090\n",
            "Epoch 25/80\n",
            "84/84 [==============================] - 0s 4ms/step - loss: 3.5326 - val_loss: 2.5979\n",
            "Epoch 26/80\n",
            "84/84 [==============================] - 0s 4ms/step - loss: 3.4963 - val_loss: 2.6771\n",
            "Epoch 27/80\n",
            "84/84 [==============================] - 0s 4ms/step - loss: 3.4966 - val_loss: 2.4823\n",
            "Epoch 28/80\n",
            "84/84 [==============================] - 0s 4ms/step - loss: 3.5967 - val_loss: 2.7251\n",
            "Epoch 29/80\n",
            "84/84 [==============================] - 0s 4ms/step - loss: 3.4529 - val_loss: 2.6080\n",
            "Epoch 30/80\n",
            "84/84 [==============================] - 0s 4ms/step - loss: 3.4923 - val_loss: 2.6019\n",
            "Epoch 31/80\n",
            "84/84 [==============================] - 0s 4ms/step - loss: 3.4945 - val_loss: 2.6821\n",
            "Epoch 32/80\n",
            "84/84 [==============================] - 0s 4ms/step - loss: 3.4121 - val_loss: 2.5521\n",
            "Epoch 33/80\n",
            "84/84 [==============================] - 0s 4ms/step - loss: 3.4203 - val_loss: 2.4653\n",
            "Epoch 34/80\n",
            "84/84 [==============================] - 0s 4ms/step - loss: 3.5466 - val_loss: 2.7139\n",
            "Epoch 35/80\n",
            "84/84 [==============================] - 0s 4ms/step - loss: 3.4431 - val_loss: 2.7071\n",
            "Epoch 36/80\n",
            "84/84 [==============================] - 0s 4ms/step - loss: 3.5140 - val_loss: 2.6133\n",
            "Epoch 37/80\n",
            "84/84 [==============================] - 0s 4ms/step - loss: 3.4300 - val_loss: 2.9639\n",
            "Epoch 38/80\n",
            "84/84 [==============================] - 0s 4ms/step - loss: 3.2845 - val_loss: 2.5669\n",
            "Epoch 39/80\n",
            "84/84 [==============================] - 0s 4ms/step - loss: 3.4316 - val_loss: 2.5199\n",
            "Epoch 40/80\n",
            "84/84 [==============================] - 0s 4ms/step - loss: 3.3253 - val_loss: 2.5124\n",
            "Epoch 41/80\n",
            "84/84 [==============================] - 0s 4ms/step - loss: 3.4433 - val_loss: 2.5057\n",
            "Epoch 42/80\n",
            "84/84 [==============================] - 0s 4ms/step - loss: 3.3624 - val_loss: 2.7025\n",
            "Epoch 43/80\n",
            "84/84 [==============================] - 0s 4ms/step - loss: 3.3554 - val_loss: 2.5553\n",
            "Epoch 44/80\n",
            "84/84 [==============================] - 0s 4ms/step - loss: 3.3074 - val_loss: 2.5166\n",
            "Epoch 45/80\n",
            "84/84 [==============================] - 0s 4ms/step - loss: 3.2881 - val_loss: 2.5168\n",
            "Epoch 46/80\n",
            "84/84 [==============================] - 0s 4ms/step - loss: 3.3489 - val_loss: 2.5507\n",
            "Epoch 47/80\n",
            "84/84 [==============================] - 0s 4ms/step - loss: 3.3893 - val_loss: 2.4960\n",
            "Epoch 48/80\n",
            "84/84 [==============================] - 0s 4ms/step - loss: 3.3386 - val_loss: 2.4767\n",
            "Epoch 49/80\n",
            "84/84 [==============================] - 0s 4ms/step - loss: 3.2645 - val_loss: 2.6656\n",
            "Epoch 50/80\n",
            "84/84 [==============================] - 0s 4ms/step - loss: 3.4486 - val_loss: 2.5906\n",
            "Epoch 51/80\n",
            "84/84 [==============================] - 0s 4ms/step - loss: 3.3062 - val_loss: 2.9721\n",
            "Epoch 52/80\n",
            "84/84 [==============================] - 0s 4ms/step - loss: 3.3814 - val_loss: 2.5955\n",
            "Epoch 53/80\n",
            "84/84 [==============================] - 0s 4ms/step - loss: 3.2868 - val_loss: 2.5770\n",
            "Epoch 54/80\n",
            "84/84 [==============================] - 0s 4ms/step - loss: 3.3356 - val_loss: 2.7632\n",
            "Epoch 55/80\n",
            "84/84 [==============================] - 0s 4ms/step - loss: 3.2457 - val_loss: 2.4711\n",
            "Epoch 56/80\n",
            "84/84 [==============================] - 0s 4ms/step - loss: 3.2100 - val_loss: 2.6195\n",
            "Epoch 57/80\n",
            "84/84 [==============================] - 0s 4ms/step - loss: 3.2381 - val_loss: 2.7335\n",
            "Epoch 58/80\n",
            "84/84 [==============================] - 0s 4ms/step - loss: 3.2781 - val_loss: 3.1827\n",
            "Epoch 59/80\n",
            "84/84 [==============================] - 0s 4ms/step - loss: 3.2677 - val_loss: 2.4615\n",
            "Epoch 60/80\n",
            "84/84 [==============================] - 0s 4ms/step - loss: 3.3105 - val_loss: 2.4669\n",
            "Epoch 61/80\n",
            "84/84 [==============================] - 1s 8ms/step - loss: 3.1551 - val_loss: 2.6083\n",
            "Epoch 62/80\n",
            "84/84 [==============================] - 0s 4ms/step - loss: 3.2206 - val_loss: 2.5932\n",
            "Epoch 63/80\n",
            "84/84 [==============================] - 0s 4ms/step - loss: 3.3270 - val_loss: 2.5453\n",
            "Epoch 64/80\n",
            "84/84 [==============================] - 0s 4ms/step - loss: 3.1938 - val_loss: 2.5381\n",
            "Epoch 65/80\n",
            "84/84 [==============================] - 0s 4ms/step - loss: 3.1761 - val_loss: 2.7145\n",
            "Epoch 66/80\n",
            "84/84 [==============================] - 0s 4ms/step - loss: 3.2359 - val_loss: 2.5006\n",
            "Epoch 67/80\n",
            "84/84 [==============================] - 0s 4ms/step - loss: 3.1916 - val_loss: 2.4541\n",
            "Epoch 68/80\n",
            "84/84 [==============================] - 0s 4ms/step - loss: 3.1135 - val_loss: 2.4736\n",
            "Epoch 69/80\n",
            "84/84 [==============================] - 0s 4ms/step - loss: 3.0771 - val_loss: 2.5340\n",
            "Epoch 70/80\n",
            "84/84 [==============================] - 0s 4ms/step - loss: 3.1064 - val_loss: 2.5051\n",
            "Epoch 71/80\n",
            "84/84 [==============================] - 0s 4ms/step - loss: 3.2247 - val_loss: 2.6001\n",
            "Epoch 72/80\n",
            "84/84 [==============================] - 0s 4ms/step - loss: 3.1551 - val_loss: 2.5741\n",
            "Epoch 73/80\n",
            "84/84 [==============================] - 0s 4ms/step - loss: 3.2516 - val_loss: 2.9713\n",
            "Epoch 74/80\n",
            "84/84 [==============================] - 0s 3ms/step - loss: 3.2409 - val_loss: 2.5279\n",
            "Epoch 75/80\n",
            "84/84 [==============================] - 0s 4ms/step - loss: 3.1397 - val_loss: 2.4641\n",
            "Epoch 76/80\n",
            "84/84 [==============================] - 0s 4ms/step - loss: 3.1283 - val_loss: 2.7368\n",
            "Epoch 77/80\n",
            "84/84 [==============================] - 0s 3ms/step - loss: 3.1178 - val_loss: 2.6211\n",
            "Epoch 78/80\n",
            "84/84 [==============================] - 0s 4ms/step - loss: 3.1346 - val_loss: 2.5378\n",
            "Epoch 79/80\n",
            "84/84 [==============================] - 0s 4ms/step - loss: 3.1280 - val_loss: 2.7014\n",
            "Epoch 80/80\n",
            "84/84 [==============================] - 0s 3ms/step - loss: 3.0818 - val_loss: 2.4885\n"
          ]
        }
      ]
    },
    {
      "cell_type": "code",
      "source": [
        "plt.plot(history.history['loss'])\n",
        "plt.plot(history.history['val_loss'])"
      ],
      "metadata": {
        "colab": {
          "base_uri": "https://localhost:8080/",
          "height": 283
        },
        "id": "liPkzeAg-FgE",
        "outputId": "dde017f0-3c70-4a64-f6c0-ce00b8f2b781"
      },
      "execution_count": 30,
      "outputs": [
        {
          "output_type": "execute_result",
          "data": {
            "text/plain": [
              "[<matplotlib.lines.Line2D at 0x7f3f09274350>]"
            ]
          },
          "metadata": {},
          "execution_count": 30
        },
        {
          "output_type": "display_data",
          "data": {
            "text/plain": [
              "<Figure size 432x288 with 1 Axes>"
            ],
            "image/png": "[encoded data removed]"
          },
          "metadata": {
            "needs_background": "light"
          }
        }
      ]
    },
    {
      "cell_type": "code",
      "source": [
        "test_predictions = model(x_test_scaled).numpy()\n",
        "train_predictions = model(x_train_scaled).numpy()"
      ],
      "metadata": {
        "id": "jEqauwX--XZy"
      },
      "execution_count": 31,
      "outputs": []
    },
    {
      "cell_type": "code",
      "source": [
        "train_predictions"
      ],
      "metadata": {
        "colab": {
          "base_uri": "https://localhost:8080/"
        },
        "id": "QbOuxHK0-p0t",
        "outputId": "4ce80026-585f-41b3-bfdf-898b56204cc6"
      },
      "execution_count": 32,
      "outputs": [
        {
          "output_type": "execute_result",
          "data": {
            "text/plain": [
              "array([[18.613073],\n",
              "       [23.77797 ],\n",
              "       [29.952362],\n",
              "       ...,\n",
              "       [21.011086],\n",
              "       [22.859499],\n",
              "       [20.038305]], dtype=float32)"
            ]
          },
          "metadata": {},
          "execution_count": 32
        }
      ]
    },
    {
      "cell_type": "code",
      "source": [
        "mean_squared_error(test_predictions, y_test, squared=False)"
      ],
      "metadata": {
        "colab": {
          "base_uri": "https://localhost:8080/"
        },
        "id": "48q6riGxEsFx",
        "outputId": "b5caa67d-e839-42a0-eb44-4571d7990e8a"
      },
      "execution_count": 33,
      "outputs": [
        {
          "output_type": "execute_result",
          "data": {
            "text/plain": [
              "3.9041297990991115"
            ]
          },
          "metadata": {},
          "execution_count": 33
        }
      ]
    },
    {
      "cell_type": "code",
      "source": [
        "r2 = tfa.metrics.r_square.RSquare()\n",
        "r2.update_state(y_test, test_predictions.reshape(-1))\n",
        "print(f'Test Set R2: {r2.result().numpy()}')\n",
        "r2.update_state(y_train, train_predictions.reshape(-1))\n",
        "print(f'Test Set R2: {r2.result().numpy()}')"
      ],
      "metadata": {
        "colab": {
          "base_uri": "https://localhost:8080/"
        },
        "id": "w-z61TLK-iFe",
        "outputId": "d8b17fef-37af-4b7c-ebd1-6b3d77ec3a57"
      },
      "execution_count": 34,
      "outputs": [
        {
          "output_type": "stream",
          "name": "stdout",
          "text": [
            "Test Set R2: 0.7082490921020508\n",
            "Test Set R2: 0.7359796762466431\n"
          ]
        }
      ]
    },
    {
      "cell_type": "code",
      "source": [],
      "metadata": {
        "id": "CsU2K2Ffkd7z"
      },
      "execution_count": null,
      "outputs": []
    }
  ]
}