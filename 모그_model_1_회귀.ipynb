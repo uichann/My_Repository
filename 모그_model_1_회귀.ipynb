{
  "nbformat": 4,
  "nbformat_minor": 0,
  "metadata": {
    "colab": {
      "provenance": [],
      "mount_file_id": "1xDyYq3Fl9bCOmADiwPs4_jHDXSkoO2XS",
      "authorship_tag": "ABX9TyP+Tdk5upd/1iSQBpURbnxM",
      "include_colab_link": true
    },
    "kernelspec": {
      "name": "python3",
      "display_name": "Python 3"
    },
    "language_info": {
      "name": "python"
    }
  },
  "cells": [
    {
      "cell_type": "markdown",
      "metadata": {
        "id": "view-in-github",
        "colab_type": "text"
      },
      "source": [
        "<a href=\"https://colab.research.google.com/github/uichann/My_Repository/blob/main/%EB%AA%A8%EA%B7%B8_model_1_%ED%9A%8C%EA%B7%80.ipynb\" target=\"_parent\"><img src=\"https://colab.research.google.com/assets/colab-badge.svg\" alt=\"Open In Colab\"/></a>"
      ]
    },
    {
      "cell_type": "code",
      "execution_count": 1,
      "metadata": {
        "id": "FDmH1CxkWxZV"
      },
      "outputs": [],
      "source": [
        "import warnings\n",
        "warnings.filterwarnings('ignore')\n",
        "\n",
        "import numpy as np\n",
        "import pandas as pd\n",
        "from tqdm.notebook import tqdm\n",
        "from sklearn.model_selection import train_test_split\n",
        "from collections import defaultdict\n",
        "import os, random\n",
        "\n",
        "from scipy import sparse\n",
        "from sklearn.preprocessing import LabelEncoder\n",
        "import matplotlib.pyplot as plt\n",
        "%matplotlib inline\n",
        "\n",
        "import torch\n",
        "import torch.nn as nn\n",
        "from torch.nn.init import normal_\n",
        "from torch.utils.data import TensorDataset, DataLoader\n",
        "import torch.nn.functional as F\n",
        "\n",
        "import plotnine\n",
        "from plotnine import *\n",
        "\n",
        "import seaborn as sns\n",
        "\n"
      ]
    },
    {
      "cell_type": "code",
      "source": [
        "dmg = pd.read_excel(\"/content/drive/MyDrive/sample_data_MORG.xlsx\")"
      ],
      "metadata": {
        "id": "rqFbHHc5XCFZ"
      },
      "execution_count": 2,
      "outputs": []
    },
    {
      "cell_type": "code",
      "source": [
        "data = dmg[['성별','나이','키','몸무게','가슴너비','허리너비','엉덩이너비','어깨너비','BMI','가슴둘레','허리둘레','종아리최소둘레','엉덩이둘레','체지방률']].reset_index(drop = True)\n"
      ],
      "metadata": {
        "id": "9GWC33AUXNb-"
      },
      "execution_count": 3,
      "outputs": []
    },
    {
      "cell_type": "code",
      "source": [
        "data.columns = ['Sex','Age','Heigt','weight','Chest_wid','waist_wid','hip_wid','shoul_wid','BMI','bust','waist_cir','calf_cir','hip_cir','body_fat']"
      ],
      "metadata": {
        "id": "XAgAJnj9XWSf"
      },
      "execution_count": 4,
      "outputs": []
    },
    {
      "cell_type": "code",
      "source": [
        "data['Sex'] = data['Sex'].map({'남': 1, '여': 0})"
      ],
      "metadata": {
        "id": "VqwpUH_iXYug"
      },
      "execution_count": 5,
      "outputs": []
    },
    {
      "cell_type": "code",
      "source": [
        "data.dropna(inplace=True)"
      ],
      "metadata": {
        "id": "I9b8rtE4XbIV"
      },
      "execution_count": 6,
      "outputs": []
    },
    {
      "cell_type": "code",
      "source": [
        "Q1 = data[['Sex','Age','Heigt','weight','Chest_wid','waist_wid','hip_wid','shoul_wid','BMI','bust','waist_cir','calf_cir','hip_cir','body_fat']].quantile(q=0.25)\n",
        "Q3 = data[['Sex','Age','Heigt','weight','Chest_wid','waist_wid','hip_wid','shoul_wid','BMI','bust','waist_cir','calf_cir','hip_cir','body_fat']].quantile(q=0.75)"
      ],
      "metadata": {
        "id": "Jidc4VQ8ujyr"
      },
      "execution_count": 7,
      "outputs": []
    },
    {
      "cell_type": "code",
      "source": [
        "IQR = Q3-Q1"
      ],
      "metadata": {
        "id": "OqAddWQrujrp"
      },
      "execution_count": 8,
      "outputs": []
    },
    {
      "cell_type": "code",
      "source": [
        "#이상치 제거\n",
        "IQR_df = data[(data['Sex'] <= Q3['Sex']+1.5*IQR['Sex']) & (data['Sex'] >= Q1['Sex']-1.5*IQR['Sex'])]\n",
        "IQR_df = IQR_df[(IQR_df['Age'] <= Q3['Age']+1.5*IQR['Age']) & (IQR_df['Age'] >= Q1['Age']-1.5*IQR['Age'])]\n",
        "IQR_df = IQR_df[(IQR_df['Heigt'] <= Q3['Heigt']+1.5*IQR['Heigt']) & (IQR_df['Heigt'] >= Q1['Heigt']-1.5*IQR['Heigt'])]\n",
        "IQR_df = IQR_df[(IQR_df['weight'] <= Q3['weight']+1.5*IQR['weight']) & (IQR_df['weight'] >= Q1['weight']-1.5*IQR['weight'])]\n",
        "IQR_df = IQR_df[(IQR_df['Chest_wid'] <= Q3['Chest_wid']+1.5*IQR['Chest_wid']) & (IQR_df['Chest_wid'] >= Q1['Chest_wid']-1.5*IQR['Chest_wid'])]\n",
        "IQR_df = IQR_df[(IQR_df['waist_wid'] <= Q3['waist_wid']+1.5*IQR['waist_wid']) & (IQR_df['waist_wid'] >= Q1['waist_wid']-1.5*IQR['waist_wid'])]\n",
        "IQR_df = IQR_df[(IQR_df['hip_wid'] <= Q3['hip_wid']+1.5*IQR['hip_wid']) & (IQR_df['hip_wid'] >= Q1['hip_wid']-1.5*IQR['hip_wid'])]\n",
        "IQR_df = IQR_df[(IQR_df['shoul_wid'] <= Q3['shoul_wid']+1.5*IQR['shoul_wid']) & (IQR_df['shoul_wid'] >= Q1['shoul_wid']-1.5*IQR['shoul_wid'])]\n",
        "IQR_df = IQR_df[(IQR_df['bust'] <= Q3['bust']+1.5*IQR['bust']) & (IQR_df['bust'] >= Q1['bust']-1.5*IQR['bust'])]\n",
        "IQR_df = IQR_df[(IQR_df['waist_cir'] <= Q3['waist_cir']+1.5*IQR['waist_cir']) & (IQR_df['waist_cir'] >= Q1['waist_cir']-1.5*IQR['waist_cir'])]\n",
        "IQR_df = IQR_df[(IQR_df['calf_cir'] <= Q3['calf_cir']+1.5*IQR['calf_cir']) & (IQR_df['calf_cir'] >= Q1['calf_cir']-1.5*IQR['calf_cir'])]\n",
        "IQR_df = IQR_df[(IQR_df['hip_cir'] <= Q3['hip_cir']+1.5*IQR['hip_cir']) & (IQR_df['hip_cir'] >= Q1['hip_cir']-1.5*IQR['hip_cir'])]\n",
        "IQR_df = IQR_df[(IQR_df['body_fat'] <= Q3['body_fat']+1.5*IQR['body_fat']) & (IQR_df['body_fat'] >= Q1['body_fat']-1.5*IQR['body_fat'])]\n",
        "\n",
        "IQR_df = IQR_df[['Sex','Age','Heigt','weight','Chest_wid','waist_wid','hip_wid','shoul_wid','BMI','bust','waist_cir','calf_cir','hip_cir','body_fat']]\n",
        "\n",
        "print('original_df :', len(data))\n",
        "print('IQR_df :', len(IQR_df))\n",
        "\n",
        "data=IQR_df"
      ],
      "metadata": {
        "colab": {
          "base_uri": "https://localhost:8080/"
        },
        "id": "pJW0E29Subyd",
        "outputId": "ddcd69c4-0474-4804-a0cd-4c5939066713"
      },
      "execution_count": 9,
      "outputs": [
        {
          "output_type": "stream",
          "name": "stdout",
          "text": [
            "original_df : 4270\n",
            "IQR_df : 4159\n"
          ]
        }
      ]
    },
    {
      "cell_type": "code",
      "source": [
        "data.drop(columns=['Sex','Age','Heigt','shoul_wid'],axis=1,inplace=True)"
      ],
      "metadata": {
        "id": "1Iaaad63Xfvm"
      },
      "execution_count": 10,
      "outputs": []
    },
    {
      "cell_type": "code",
      "source": [
        "data['body_fat'] = data['body_fat'].round()"
      ],
      "metadata": {
        "id": "FKY7ihgCu-kw"
      },
      "execution_count": 11,
      "outputs": []
    },
    {
      "cell_type": "code",
      "source": [
        "pip install tensorflow_addons"
      ],
      "metadata": {
        "colab": {
          "base_uri": "https://localhost:8080/"
        },
        "id": "xkS9TzEqXlir",
        "outputId": "4790d44a-31d1-4058-ea7f-249ccfda2cdc"
      },
      "execution_count": 12,
      "outputs": [
        {
          "output_type": "stream",
          "name": "stdout",
          "text": [
            "Looking in indexes: https://pypi.org/simple, https://us-python.pkg.dev/colab-wheels/public/simple/\n",
            "Requirement already satisfied: tensorflow_addons in /usr/local/lib/python3.7/dist-packages (0.18.0)\n",
            "Requirement already satisfied: typeguard>=2.7 in /usr/local/lib/python3.7/dist-packages (from tensorflow_addons) (2.7.1)\n",
            "Requirement already satisfied: packaging in /usr/local/lib/python3.7/dist-packages (from tensorflow_addons) (21.3)\n",
            "Requirement already satisfied: pyparsing!=3.0.5,>=2.0.2 in /usr/local/lib/python3.7/dist-packages (from packaging->tensorflow_addons) (3.0.9)\n"
          ]
        }
      ]
    },
    {
      "cell_type": "code",
      "source": [
        "import numpy as np\n",
        "import os, matplotlib\n",
        "from matplotlib import pyplot as plt\n",
        "\n",
        "### Tensorflow 2.0 ###\n",
        "import tensorflow as tf\n",
        "from tensorflow import keras\n",
        "from tensorflow.keras.models import Sequential, Model\n",
        "from tensorflow.keras import Input\n",
        "from tensorflow.keras import layers\n",
        "from tensorflow.keras import models\n",
        "from tensorflow.keras.preprocessing import image\n",
        "from tensorflow.keras.preprocessing.image import ImageDataGenerator\n",
        "from tensorflow.keras import losses\n",
        "from tensorflow.keras import optimizers\n",
        "from tensorflow.keras import metrics\n",
        "from tensorflow.keras import regularizers\n",
        "from tensorflow.keras import utils\n",
        "\n",
        "import tensorflow_addons as tfa"
      ],
      "metadata": {
        "id": "38VFr1dXYOm_"
      },
      "execution_count": 13,
      "outputs": []
    },
    {
      "cell_type": "code",
      "source": [
        "import seaborn as sns\n",
        "import matplotlib.pyplot as plt\n",
        "\n",
        "from sklearn.model_selection import train_test_split, cross_val_score\n",
        "from sklearn.linear_model import LinearRegression, Lasso, Ridge\n",
        "from sklearn.metrics import mean_squared_error\n",
        "import xgboost as XGB"
      ],
      "metadata": {
        "id": "6-Qp1fjHYRSI"
      },
      "execution_count": 14,
      "outputs": []
    },
    {
      "cell_type": "code",
      "source": [
        "from sklearn.preprocessing import StandardScaler"
      ],
      "metadata": {
        "id": "VGTZGqFwYVpk"
      },
      "execution_count": 15,
      "outputs": []
    },
    {
      "cell_type": "code",
      "source": [
        "x = data.drop(['body_fat'],axis=1).values\n",
        "y = data['body_fat'].values"
      ],
      "metadata": {
        "id": "BAD0zuujYZph"
      },
      "execution_count": 16,
      "outputs": []
    },
    {
      "cell_type": "code",
      "source": [
        "X_train, X_test, y_train, y_test = train_test_split(x, y, test_size=0.2, random_state=42)\n",
        "logs = []\n",
        "regr = LinearRegression()\n",
        "regr.fit(X_train, y_train)\n",
        "y_pred = regr.predict(X_test)\n",
        "score = regr.score(X_test, y_test)\n",
        "rmse = mean_squared_error(y_test, y_pred, squared=False)\n",
        "print(f\"Score --> {score}\")\n",
        "print(f\"RMSE --> {rmse}\")\n",
        "\n",
        "log = {\"name\": \"linear_regression\", \"score\": score, \"rmse\": rmse}\n",
        "logs.append(log)"
      ],
      "metadata": {
        "colab": {
          "base_uri": "https://localhost:8080/"
        },
        "id": "UcYRID9IYe8Q",
        "outputId": "64cce62b-fd99-42b9-ba50-7d7e8b681d5d"
      },
      "execution_count": 17,
      "outputs": [
        {
          "output_type": "stream",
          "name": "stdout",
          "text": [
            "Score --> 0.7076015208339936\n",
            "RMSE --> 3.908460427280872\n"
          ]
        }
      ]
    },
    {
      "cell_type": "code",
      "source": [
        "ss= StandardScaler()\n",
        "scaled_train= ss.fit_transform(X_train)\n",
        "scaled_test = ss.fit_transform(X_test)\n",
        "from sklearn.neighbors import KNeighborsRegressor\n",
        "knn= KNeighborsRegressor()\n",
        "knn.fit(scaled_train,y_train)\n",
        "print(knn.score(scaled_test,y_test))\n",
        "from sklearn.ensemble import RandomForestRegressor\n",
        "rf = RandomForestRegressor()\n",
        "rf.fit(scaled_train, y_train)\n",
        "print(rf.score(scaled_test,y_test))\n",
        "from sklearn.tree import DecisionTreeRegressor\n",
        "dtc = DecisionTreeRegressor()\n",
        "dtc.fit(scaled_train,y_train)\n",
        "print(dtc.score(scaled_test, y_test))"
      ],
      "metadata": {
        "colab": {
          "base_uri": "https://localhost:8080/"
        },
        "id": "mg2bidHFYibM",
        "outputId": "7fbd7a8d-878e-455f-b9cc-92ec730656f0"
      },
      "execution_count": 18,
      "outputs": [
        {
          "output_type": "stream",
          "name": "stdout",
          "text": [
            "0.6010334166257818\n",
            "0.6809535306446427\n",
            "0.3278578966143717\n"
          ]
        }
      ]
    },
    {
      "cell_type": "code",
      "source": [
        "from lightgbm import LGBMRegressor\n",
        "lgbmr= LGBMRegressor()\n",
        "evals = [(scaled_test, y_test)]\n",
        "lgbmr.fit(scaled_train, y_train)\n",
        "lgbmr.score(scaled_test,y_test)\n",
        "from lightgbm import LGBMRegressor\n",
        "lgbmr= LGBMRegressor()\n",
        "evals = [(scaled_test, y_test)]\n",
        "lgbmr.fit(scaled_train, y_train,early_stopping_rounds=100, eval_metric='logloss', verbose=True, eval_set=evals)"
      ],
      "metadata": {
        "id": "K4J9Nd1SYmr6"
      },
      "execution_count": null,
      "outputs": []
    },
    {
      "cell_type": "code",
      "source": [
        "preds = lgbmr.predict(scaled_test)\n",
        "preds"
      ],
      "metadata": {
        "id": "vMG2QBS-YqmJ"
      },
      "execution_count": null,
      "outputs": []
    },
    {
      "cell_type": "code",
      "source": [
        "lgbmr.score(scaled_test,y_test)"
      ],
      "metadata": {
        "colab": {
          "base_uri": "https://localhost:8080/"
        },
        "id": "ojS_2j6GYv-3",
        "outputId": "aab19640-24f1-4f53-f6de-6b4567131fdc"
      },
      "execution_count": 21,
      "outputs": [
        {
          "output_type": "execute_result",
          "data": {
            "text/plain": [
              "0.700677444573685"
            ]
          },
          "metadata": {},
          "execution_count": 21
        }
      ]
    },
    {
      "cell_type": "code",
      "source": [
        "from sklearn.model_selection import cross_validate\n",
        "cross_val = cross_validate(estimator=lgbmr,\n",
        "                          X=x,y=y)\n",
        "\n",
        "print(\"avg fit time {}, std :{}\".format(cross_val['fit_time'].mean(), cross_val['fit_time'].std()))\n",
        "print(\"avg score_time {}, std :{}\".format(cross_val['score_time'].mean(), cross_val['score_time'].std()))\n",
        "print(\"avg test_score {}, std :{}\".format(cross_val['test_score'].mean(), cross_val['test_score'].std()))\n",
        "\n",
        "from lightgbm import plot_importance, plot_metric, plot_tree\n",
        "import graphviz\n",
        "plot_metric(lgbmr);\n",
        "plot_importance(lgbmr,figsize=(12,10));"
      ],
      "metadata": {
        "colab": {
          "base_uri": "https://localhost:8080/",
          "height": 953
        },
        "id": "aACnm-7xZHxb",
        "outputId": "a929054d-8ff9-45dc-dbba-3b985b735ead"
      },
      "execution_count": 22,
      "outputs": [
        {
          "output_type": "stream",
          "name": "stdout",
          "text": [
            "avg fit time 0.14693775177001953, std :0.005504667842469344\n",
            "avg score_time 0.007393503189086914, std :0.0006631234412960047\n",
            "avg test_score 0.6185001335683078, std :0.12805163697979743\n"
          ]
        },
        {
          "output_type": "display_data",
          "data": {
            "text/plain": [
              "<Figure size 432x288 with 1 Axes>"
            ],
            "image/png": "[encoded data removed]"
          },
          "metadata": {
            "needs_background": "light"
          }
        },
        {
          "output_type": "display_data",
          "data": {
            "text/plain": [
              "<Figure size 864x720 with 1 Axes>"
            ],
            "image/png": "[encoded data removed]"
          },
          "metadata": {
            "needs_background": "light"
          }
        }
      ]
    },
    {
      "cell_type": "code",
      "source": [
        "lasso_regr = Lasso(alpha=0.5)\n",
        "lasso_regr.fit(X_train, y_train)\n",
        "cv_score = cross_val_score(lasso_regr, X_train, y_train, cv=10)\n",
        "print(f\"CV Score --> {np.mean(cv_score)}\")\n",
        "y_pred = lasso_regr.predict(X_test)\n",
        "print(f\"Score --> {lasso_regr.score(X_test, y_test)}\")\n",
        "rmse = mean_squared_error(y_test, y_pred, squared=False)\n",
        "print(f\"RMSE --> {rmse}\")\n",
        "\n",
        "log = {\"name\": \"lasso\", \"score\": np.mean(cv_score), \"rmse\": rmse}\n",
        "logs.append(log)"
      ],
      "metadata": {
        "colab": {
          "base_uri": "https://localhost:8080/"
        },
        "id": "aO0dtwqqZKnv",
        "outputId": "4e0f76ec-2f9c-4ab2-90ab-93febc3e37d6"
      },
      "execution_count": 23,
      "outputs": [
        {
          "output_type": "stream",
          "name": "stdout",
          "text": [
            "CV Score --> 0.7397834766160786\n",
            "Score --> 0.6969176557820507\n",
            "RMSE --> 3.979224879198296\n"
          ]
        }
      ]
    },
    {
      "cell_type": "code",
      "source": [
        "ridge_regr = Ridge(alpha=0.5)\n",
        "ridge_regr.fit(X_train, y_train)\n",
        "cv_score = cross_val_score(ridge_regr, X_train, y_train, cv=10)\n",
        "print(f\"CV Score --> {np.mean(cv_score)}\")\n",
        "y_pred = ridge_regr.predict(X_test)\n",
        "print(f\"Score --> {ridge_regr.score(X_test, y_test)}\")\n",
        "rmse = mean_squared_error(y_test, y_pred, squared=False)\n",
        "print(f\"RMSE --> {rmse}\")\n",
        "\n",
        "log = {\"name\": \"ridge\", \"score\": np.mean(cv_score), \"rmse\": rmse}\n",
        "logs.append(log)"
      ],
      "metadata": {
        "colab": {
          "base_uri": "https://localhost:8080/"
        },
        "id": "PSghC688ZOL5",
        "outputId": "b9a3fd74-f9d3-433c-cc17-168555ac6a1b"
      },
      "execution_count": 24,
      "outputs": [
        {
          "output_type": "stream",
          "name": "stdout",
          "text": [
            "CV Score --> 0.7451034116448763\n",
            "Score --> 0.707597556666866\n",
            "RMSE --> 3.908486921498414\n"
          ]
        }
      ]
    },
    {
      "cell_type": "code",
      "source": [
        "xgb_regr = XGB.XGBRegressor(learning_rate = 0.01, n_estimators=1000)\n",
        "xgb_regr.fit(X_train, y_train)\n",
        "cv_score = cross_val_score(xgb_regr, X_train, y_train, cv=10)\n",
        "print(f\"CV Score --> {np.mean(cv_score)}\")\n",
        "y_pred = regr.predict(X_test)\n",
        "print(f\"Score --> {xgb_regr.score(X_test, y_test)}\")\n",
        "rmse = mean_squared_error(y_test, y_pred, squared=False)\n",
        "print(f\"RMSE --> {rmse}\")\n",
        "\n",
        "log = {\"name\": \"XGBoost\", \"score\": np.mean(cv_score), \"rmse\": rmse}\n",
        "logs.append(log)"
      ],
      "metadata": {
        "colab": {
          "base_uri": "https://localhost:8080/"
        },
        "id": "nlfwb-YHZQ3n",
        "outputId": "10340ebd-a855-48b5-87f8-3fc80b2e6602"
      },
      "execution_count": 25,
      "outputs": [
        {
          "output_type": "stream",
          "name": "stdout",
          "text": [
            "[09:48:14] WARNING: /workspace/src/objective/regression_obj.cu:152: reg:linear is now deprecated in favor of reg:squarederror.\n",
            "[09:48:15] WARNING: /workspace/src/objective/regression_obj.cu:152: reg:linear is now deprecated in favor of reg:squarederror.\n",
            "[09:48:17] WARNING: /workspace/src/objective/regression_obj.cu:152: reg:linear is now deprecated in favor of reg:squarederror.\n",
            "[09:48:19] WARNING: /workspace/src/objective/regression_obj.cu:152: reg:linear is now deprecated in favor of reg:squarederror.\n",
            "[09:48:20] WARNING: /workspace/src/objective/regression_obj.cu:152: reg:linear is now deprecated in favor of reg:squarederror.\n",
            "[09:48:22] WARNING: /workspace/src/objective/regression_obj.cu:152: reg:linear is now deprecated in favor of reg:squarederror.\n",
            "[09:48:23] WARNING: /workspace/src/objective/regression_obj.cu:152: reg:linear is now deprecated in favor of reg:squarederror.\n",
            "[09:48:25] WARNING: /workspace/src/objective/regression_obj.cu:152: reg:linear is now deprecated in favor of reg:squarederror.\n",
            "[09:48:27] WARNING: /workspace/src/objective/regression_obj.cu:152: reg:linear is now deprecated in favor of reg:squarederror.\n",
            "[09:48:28] WARNING: /workspace/src/objective/regression_obj.cu:152: reg:linear is now deprecated in favor of reg:squarederror.\n",
            "[09:48:30] WARNING: /workspace/src/objective/regression_obj.cu:152: reg:linear is now deprecated in favor of reg:squarederror.\n",
            "CV Score --> 0.7293258938438866\n",
            "Score --> 0.6973431879813965\n",
            "RMSE --> 3.908460427280872\n"
          ]
        }
      ]
    },
    {
      "cell_type": "code",
      "source": [
        "logs"
      ],
      "metadata": {
        "colab": {
          "base_uri": "https://localhost:8080/"
        },
        "id": "TU58OsUBZS_u",
        "outputId": "c161773f-4d5b-48f5-e705-d1b023abddc0"
      },
      "execution_count": 26,
      "outputs": [
        {
          "output_type": "execute_result",
          "data": {
            "text/plain": [
              "[{'name': 'linear_regression',\n",
              "  'score': 0.7076015208339936,\n",
              "  'rmse': 3.908460427280872},\n",
              " {'name': 'lasso', 'score': 0.7397834766160786, 'rmse': 3.979224879198296},\n",
              " {'name': 'ridge', 'score': 0.7451034116448763, 'rmse': 3.908486921498414},\n",
              " {'name': 'XGBoost', 'score': 0.7293258938438866, 'rmse': 3.908460427280872}]"
            ]
          },
          "metadata": {},
          "execution_count": 26
        }
      ]
    },
    {
      "cell_type": "code",
      "source": [
        "x = []\n",
        "y = []\n",
        "z = []\n",
        "for log in logs:\n",
        "    x.append(log['name'])\n",
        "    y.append(log['score'])\n",
        "    z.append(log['rmse'])\n",
        "    \n",
        "# sns.barplot(x,y)\n",
        "# sns.barplot(x,z)\n",
        "\n",
        "plt.figure(figsize=(15,10))\n",
        "plt.subplot(2,2,1)\n",
        "sns.barplot(x,y)\n",
        "plt.title(\"Models and their accuracy\")\n",
        "\n",
        "plt.subplot(2,2,2)\n",
        "sns.barplot(x,z)\n",
        "plt.title(\"Models and their rmse\")\n",
        "\n",
        "plt.show()"
      ],
      "metadata": {
        "colab": {
          "base_uri": "https://localhost:8080/",
          "height": 312
        },
        "id": "ilkzQ1tyZZ9s",
        "outputId": "f35ef67a-b5a3-467e-8592-006ff12848d6"
      },
      "execution_count": 27,
      "outputs": [
        {
          "output_type": "display_data",
          "data": {
            "text/plain": [
              "<Figure size 1080x720 with 2 Axes>"
            ],
            "image/png": "[encoded data removed]"
          },
          "metadata": {
            "needs_background": "light"
          }
        }
      ]
    },
    {
      "cell_type": "code",
      "source": [
        "from sklearn.ensemble import GradientBoostingRegressor\n",
        "\n",
        "from sklearn.model_selection import train_test_split\n",
        "\n",
        "from sklearn.preprocessing import StandardScaler\n",
        "from sklearn.preprocessing import MinMaxScaler"
      ],
      "metadata": {
        "id": "eZ68lKrBZcK_"
      },
      "execution_count": 28,
      "outputs": []
    },
    {
      "cell_type": "code",
      "source": [
        "x = data.drop(['body_fat'],axis=1).values\n",
        "y = data['body_fat'].values"
      ],
      "metadata": {
        "id": "fSCXfVona3RJ"
      },
      "execution_count": 29,
      "outputs": []
    },
    {
      "cell_type": "code",
      "source": [
        "x_train, x_test, y_train, y_test = train_test_split(x, y, test_size=0.3, random_state=1)"
      ],
      "metadata": {
        "id": "WwCo_90rasgY"
      },
      "execution_count": 30,
      "outputs": []
    },
    {
      "cell_type": "code",
      "source": [
        "scalerX = MinMaxScaler()\n",
        "scalerY = MinMaxScaler()\n",
        "x_train_scaled = scalerX.fit_transform(x_train)\n",
        "x_test_scaled = scalerX.transform(x_test)"
      ],
      "metadata": {
        "id": "RpqdwGBtZoFA"
      },
      "execution_count": 31,
      "outputs": []
    },
    {
      "cell_type": "code",
      "source": [
        "\n",
        "gbc = GradientBoostingRegressor(learning_rate=0.02,n_estimators=400,random_state=42) # 기본값: max_depth=3, learning_rate=0.1\n",
        "gbc.fit(x_train, y_train)\n",
        "\n",
        "\n",
        "\n"
      ],
      "metadata": {
        "colab": {
          "base_uri": "https://localhost:8080/"
        },
        "id": "LbL_e7LHaTQq",
        "outputId": "6f059d73-bac2-431e-9e8a-360421ed2ade"
      },
      "execution_count": 32,
      "outputs": [
        {
          "output_type": "execute_result",
          "data": {
            "text/plain": [
              "GradientBoostingRegressor(learning_rate=0.02, n_estimators=400, random_state=42)"
            ]
          },
          "metadata": {},
          "execution_count": 32
        }
      ]
    },
    {
      "cell_type": "code",
      "source": [
        "print(\"Model Accuracy: %.3f\" % gbc.score(x_train, y_train))"
      ],
      "metadata": {
        "colab": {
          "base_uri": "https://localhost:8080/"
        },
        "id": "u32rJdumbAPj",
        "outputId": "eb58e63d-2e63-45f6-ba0f-c9182bfa4f5e"
      },
      "execution_count": 33,
      "outputs": [
        {
          "output_type": "stream",
          "name": "stdout",
          "text": [
            "Model Accuracy: 0.771\n"
          ]
        }
      ]
    },
    {
      "cell_type": "code",
      "source": [
        "from sklearn.svm import SVR\n",
        "from sklearn.ensemble import BaggingRegressor\n",
        "from sklearn.datasets import make_regression\n",
        "from sklearn.linear_model import Lasso\n",
        "from sklearn.tree import DecisionTreeRegressor\n",
        "from math import sqrt\n",
        "from sklearn.metrics import mean_squared_error, r2_score"
      ],
      "metadata": {
        "id": "qEfivwFAbF5x"
      },
      "execution_count": 34,
      "outputs": []
    },
    {
      "cell_type": "code",
      "source": [
        "model2 = BaggingRegressor(base_estimator = DecisionTreeRegressor(), ## base learner, ## base learner\n",
        "            n_estimators=30, ## 붓스트랩 샘플 개수 또는 base_estimator 개수\n",
        "           \n",
        "            random_state=0)"
      ],
      "metadata": {
        "id": "02HUuvEhbI8A"
      },
      "execution_count": 35,
      "outputs": []
    },
    {
      "cell_type": "code",
      "source": [
        "model2.fit(x_train, y_train)"
      ],
      "metadata": {
        "colab": {
          "base_uri": "https://localhost:8080/"
        },
        "id": "Qy3sOionbMQ5",
        "outputId": "c15ad4bc-d52a-4d96-ea5d-cea928ffa2be"
      },
      "execution_count": 36,
      "outputs": [
        {
          "output_type": "execute_result",
          "data": {
            "text/plain": [
              "BaggingRegressor(base_estimator=DecisionTreeRegressor(), n_estimators=30,\n",
              "                 random_state=0)"
            ]
          },
          "metadata": {},
          "execution_count": 36
        }
      ]
    },
    {
      "cell_type": "code",
      "source": [
        "predict = model2.predict(x_test)"
      ],
      "metadata": {
        "id": "2U-46gL7bPce"
      },
      "execution_count": 37,
      "outputs": []
    },
    {
      "cell_type": "code",
      "source": [
        "print(\"RMSE: {}\".format(sqrt(mean_squared_error(predict, y_test)))) # RMSE 결과"
      ],
      "metadata": {
        "colab": {
          "base_uri": "https://localhost:8080/"
        },
        "id": "GKKyoWpZbTOe",
        "outputId": "c30eb51e-fabe-486f-99e8-afca5d8da050"
      },
      "execution_count": 38,
      "outputs": [
        {
          "output_type": "stream",
          "name": "stdout",
          "text": [
            "RMSE: 3.95636512020661\n"
          ]
        }
      ]
    },
    {
      "cell_type": "code",
      "source": [
        "print(model2.score(x_train, y_train))"
      ],
      "metadata": {
        "colab": {
          "base_uri": "https://localhost:8080/"
        },
        "id": "ppS_d0x3bVwW",
        "outputId": "f11df9d2-c264-4639-989d-d5aab2378cbd"
      },
      "execution_count": 39,
      "outputs": [
        {
          "output_type": "stream",
          "name": "stdout",
          "text": [
            "0.9541077610252603\n"
          ]
        }
      ]
    },
    {
      "cell_type": "code",
      "source": [
        "from sklearn.ensemble import RandomForestRegressor\n",
        "rf = RandomForestRegressor(n_estimators=200,random_state=42)\n",
        "rf.fit(x_test_scaled, y_test)"
      ],
      "metadata": {
        "colab": {
          "base_uri": "https://localhost:8080/"
        },
        "id": "cvUkgqxFbYf_",
        "outputId": "ab2b31b2-e0bc-46d6-d23c-3d356cdcca0b"
      },
      "execution_count": 40,
      "outputs": [
        {
          "output_type": "execute_result",
          "data": {
            "text/plain": [
              "RandomForestRegressor(n_estimators=200, random_state=42)"
            ]
          },
          "metadata": {},
          "execution_count": 40
        }
      ]
    },
    {
      "cell_type": "code",
      "source": [
        "print(rf.score(x_test_scaled, y_test))"
      ],
      "metadata": {
        "colab": {
          "base_uri": "https://localhost:8080/"
        },
        "id": "WZlWOBD_bqQi",
        "outputId": "bda86a10-3391-40cb-ccc2-f45790b24090"
      },
      "execution_count": 42,
      "outputs": [
        {
          "output_type": "stream",
          "name": "stdout",
          "text": [
            "0.9603176705402162\n"
          ]
        }
      ]
    },
    {
      "cell_type": "code",
      "source": [],
      "metadata": {
        "id": "CsVvUU_ibx93"
      },
      "execution_count": null,
      "outputs": []
    }
  ]
}